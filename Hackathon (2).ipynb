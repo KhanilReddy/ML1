{
 "cells": [
  {
   "cell_type": "code",
   "execution_count": 4,
   "metadata": {
    "id": "R8ug0C-6fA4S"
   },
   "outputs": [],
   "source": [
    "rm -rf \"/content/Qualcomm-DL-Hackathon\""
   ]
  },
  {
   "cell_type": "code",
   "execution_count": 5,
   "metadata": {
    "colab": {
     "base_uri": "https://localhost:8080/"
    },
    "id": "SMHiPrl7fLOB",
    "outputId": "07090adb-8057-4a39-af07-6003e4f3b33f"
   },
   "outputs": [
    {
     "name": "stdout",
     "output_type": "stream",
     "text": [
      "Cloning into 'Qualcomm-DL-Hackathon'...\n",
      "remote: Enumerating objects: 10, done.\u001b[K\n",
      "remote: Counting objects: 100% (10/10), done.\u001b[K\n",
      "remote: Compressing objects: 100% (10/10), done.\u001b[K\n",
      "remote: Total 10 (delta 1), reused 0 (delta 0), pack-reused 0 (from 0)\u001b[K\n",
      "Receiving objects: 100% (10/10), 30.68 MiB | 15.05 MiB/s, done.\n",
      "Resolving deltas: 100% (1/1), done.\n"
     ]
    }
   ],
   "source": [
    "#Downloading the entire project folder \"Qualcomm-DL-Hackathon\" from GitHub to your computer/colab\n",
    "!git clone https://github.com/Prashant-AV/Qualcomm-DL-Hackathon.git"
   ]
  },
  {
   "cell_type": "code",
   "execution_count": 6,
   "metadata": {
    "id": "BI3TJ1GHfaoY"
   },
   "outputs": [],
   "source": [
    "import zipfile\n",
    "import os\n",
    "import shutil\n",
    "\n",
    "def extract_all_files(zip_dir, output_dir):\n",
    "    \"\"\"\n",
    "        This function is to extract all files from ZIP archives located in a specified directory and place them into an output directory.\n",
    "\n",
    "        Args:\n",
    "            zip_dir (:class:`str`): : Required: Directory path in which all zip files are present\n",
    "            output_dir (:class:`str`): Required: Directory path in which all images has to be stored\n",
    "\n",
    "        Example : Extracted all the images from images part-1.zip and images part-2.zip to all_images folder.\n",
    "    \"\"\"\n",
    "    if os.path.exists(zip_dir):\n",
    "      # Get the zip files in zip_dir directory\n",
    "      files = os.listdir(zip_dir)\n",
    "      zip_files = [f for f in files if f.endswith('.zip')]\n",
    "\n",
    "      if not os.path.exists(output_dir):\n",
    "        os.mkdir(output_dir)\n",
    "\n",
    "      # Extract each zip file\n",
    "      for zip_file in zip_files:\n",
    "          with zipfile.ZipFile(os.path.join(zip_dir, zip_file), 'r') as zip_ref:\n",
    "              for member in zip_ref.namelist():\n",
    "                  # Extract each file to the output_dir directory without creating subfolders\n",
    "                  filename = os.path.basename(member)\n",
    "                  if filename:\n",
    "                      source = zip_ref.open(member)\n",
    "                      target = open(os.path.join(output_dir, filename), \"wb\")\n",
    "                      with source, target:\n",
    "                          shutil.copyfileobj(source, target)\n",
    "    else:\n",
    "      print(\"f{zip_dir} doesn't exits\")"
   ]
  },
  {
   "cell_type": "code",
   "execution_count": 7,
   "metadata": {
    "colab": {
     "base_uri": "https://localhost:8080/"
    },
    "id": "gRV5Uk4jfiuX",
    "outputId": "acdc1e2b-97e9-4491-87fc-33dacd2ac358"
   },
   "outputs": [
    {
     "name": "stdout",
     "output_type": "stream",
     "text": [
      "All files have been extracted to /content/Qualcomm-DL-Hackathon/train/all_images.\n"
     ]
    }
   ],
   "source": [
    "# Define the directory containing the zip files and the all_images directory\n",
    "train_directory = '/content/Qualcomm-DL-Hackathon/train/'\n",
    "all_images_directory = os.path.join(train_directory , 'all_images')\n",
    "\n",
    "# Extract all files from the zip files in path /content/Qualcomm-DL-Hackathon/train/ to the /content/Qualcomm-DL-Hackathon/train/all_images directory\n",
    "extract_all_files(train_directory, all_images_directory)\n",
    "\n",
    "print(f\"All files have been extracted to {all_images_directory}.\")"
   ]
  },
  {
   "cell_type": "code",
   "execution_count": 8,
   "metadata": {
    "id": "DT2FbB2Qfzbm"
   },
   "outputs": [],
   "source": [
    "# pandas to read the csv and write the predicted data to csv\n",
    "import pandas as pd\n",
    "\n",
    "# Importing necessary modules from TensorFlow and Keras\n",
    "from tensorflow import keras\n",
    "from keras.layers import Dense, Dropout, Flatten\n",
    "from keras.applications.vgg16 import VGG16\n",
    "from keras.preprocessing import image\n",
    "from keras.utils import to_categorical\n",
    "from keras.models import Sequential\n",
    "from keras.optimizers import SGD\n",
    "from keras.models import Model\n",
    "\n",
    "# Importing necessary modules from scikit-learn\n",
    "from sklearn.preprocessing import LabelEncoder\n",
    "from sklearn.model_selection import train_test_split\n",
    "\n",
    "# Importing tqdm for progress bar and numpy for numerical operations\n",
    "from tqdm import tqdm\n",
    "import numpy as np\n",
    "\n"
   ]
  },
  {
   "cell_type": "code",
   "execution_count": 9,
   "metadata": {
    "colab": {
     "base_uri": "https://localhost:8080/"
    },
    "id": "VQ3Ge5h7FBYA",
    "outputId": "5b2fc1a4-c63e-46d3-ef43-536f90cc20c5"
   },
   "outputs": [
    {
     "name": "stderr",
     "output_type": "stream",
     "text": [
      "100%|██████████| 1646/1646 [00:02<00:00, 643.17it/s]\n"
     ]
    }
   ],
   "source": [
    "# Loading the training data from a CSV file\n",
    "train = pd.read_csv('/content/Qualcomm-DL-Hackathon/train/train.csv')\n",
    "\n",
    "# Initializing an empty list to store the training images\n",
    "train_img=[]\n",
    "\n",
    "for i in tqdm(range(train.shape[0])):\n",
    "  # Loading the image and resizing it to 224x224 pixels, Converting the image to an array and Appending the image array to the list\n",
    "  temp_img = image.load_img('/content/Qualcomm-DL-Hackathon/train/all_images/'+train['image_names'][i], target_size=(224,224))\n",
    "  temp_img=image.img_to_array(temp_img)\n",
    "\n",
    "  train_img.append(temp_img)\n"
   ]
  },
  {
   "cell_type": "code",
   "execution_count": 10,
   "metadata": {
    "id": "N1UUhXNYFR5-"
   },
   "outputs": [],
   "source": [
    "\n",
    "def vgg16_model(img_rows, img_cols, channel=1, num_classes=None):\n",
    "    \"\"\"\n",
    "    Builds a VGG16-based convolutional neural network model with custom top layers.\n",
    "\n",
    "    Parameters:\n",
    "    img_rows (int): The number of rows in the input images.\n",
    "    img_cols (int): The number of columns in the input images.\n",
    "    channel (int): The number of channels in the input images (default is 1).\n",
    "    num_classes (int): The number of output classes for the classification task.\n",
    "\n",
    "    Returns:\n",
    "    keras.models.Model: A compiled Keras model ready for training.\n",
    "\n",
    "\n",
    "    Example usage:\n",
    "    model = vgg16_model(img_rows=224, img_cols=224, channel=3, num_classes=10)\n",
    "    \"\"\"\n",
    "    #Loads the VGG16 model with weights pre-trained on the ImageNet dataset and it includes the original fully connected layers at the top of the VGG16 architecture\n",
    "    model = VGG16(weights='imagenet', include_top=True)\n",
    "\n",
    "    #remove the last layer of the pre-trained VGG16 model and  clears connections of the last layer..\n",
    "    model.layers.pop()\n",
    "    model.layers[-1].outbound_nodes = []\n",
    "\n",
    "    #Customer layer addition which acts as output layer\n",
    "    x=Dense(num_classes, activation='sigmoid')(model.output)\n",
    "    model=Model(model.input,x)\n",
    "\n",
    "    #To set the first 8 layers to non-trainable (weights will not be updated)\n",
    "    for layer in model.layers[:8]:\n",
    "        layer.trainable = False\n",
    "\n",
    "        # Compile the model with SGD optimizer and binary cross-entropy loss\n",
    "        sgd = SGD(learning_rate=1e-3, weight_decay=1e-6, momentum=0.9, nesterov=True)\n",
    "        model.compile(optimizer=sgd, loss='binary_crossentropy', metrics=['accuracy'])\n",
    "\n",
    "        return model"
   ]
  },
  {
   "cell_type": "code",
   "execution_count": 11,
   "metadata": {
    "id": "XaHiu9zKFWXQ"
   },
   "outputs": [],
   "source": [
    "# Extracting the target variable from the training data\n",
    "train_y = train['emergency_or_not'].values\n",
    "\n",
    "# Initializing the LabelEncoder\n",
    "le = LabelEncoder()\n",
    "\n",
    "# Encoding the target variable\n",
    "train_y = le.fit_transform(train_y)\n",
    "\n",
    "# Converting the encoded labels to categorical format\n",
    "train_y=to_categorical(train_y)\n",
    "train_y=np.array(train_y)\n",
    "\n",
    "# Splitting the data into training and validation sets\n",
    "X_train, X_valid, Y_train, Y_valid=train_test_split(train_img,train_y,test_size=0.2, random_state=42)\n",
    "\n",
    "# Setting parameters for the model\n",
    "img_rows, img_cols = 224, 224           # Resolution of inputs\n",
    "channel = 3                             # Number of channels (3 for RGB images)\n",
    "num_classes = 2                         # Number of output classes : emergency and Non_emergency\n",
    "batch_size = 32                         # Batch size for training\n",
    "nb_epoch = 15                           # Number of epochs for training\n",
    "\n",
    "# Converting lists to numpy arrays so that they can be efficiently processed by the deep learning model during training and validation.\n",
    "X_train = np.stack(X_train)\n",
    "X_valid = np.stack(X_valid)\n",
    "Y_train = np.stack(Y_train)\n",
    "Y_valid = np.stack(Y_valid)\n",
    "\n",
    "# Load our final model\n",
    "model = vgg16_model(img_rows, img_cols, channel, num_classes)"
   ]
  },
  {
   "cell_type": "code",
   "execution_count": 12,
   "metadata": {
    "colab": {
     "base_uri": "https://localhost:8080/"
    },
    "id": "gKZXw6B8Fb9d",
    "outputId": "0802e70c-d1b6-4060-d391-83f0dd75b683"
   },
   "outputs": [
    {
     "name": "stdout",
     "output_type": "stream",
     "text": [
      "Epoch 1/15\n",
      "\u001b[1m42/42\u001b[0m \u001b[32m━━━━━━━━━━━━━━━━━━━━\u001b[0m\u001b[37m\u001b[0m \u001b[1m115s\u001b[0m 2s/step - accuracy: 0.5310 - loss: 0.6926 - val_accuracy: 0.8182 - val_loss: 0.6854\n",
      "Epoch 2/15\n",
      "\u001b[1m42/42\u001b[0m \u001b[32m━━━━━━━━━━━━━━━━━━━━\u001b[0m\u001b[37m\u001b[0m \u001b[1m53s\u001b[0m 552ms/step - accuracy: 0.8260 - loss: 0.6830 - val_accuracy: 0.9000 - val_loss: 0.6734\n",
      "Epoch 3/15\n",
      "\u001b[1m42/42\u001b[0m \u001b[32m━━━━━━━━━━━━━━━━━━━━\u001b[0m\u001b[37m\u001b[0m \u001b[1m41s\u001b[0m 551ms/step - accuracy: 0.9046 - loss: 0.6700 - val_accuracy: 0.9061 - val_loss: 0.6571\n",
      "Epoch 4/15\n",
      "\u001b[1m42/42\u001b[0m \u001b[32m━━━━━━━━━━━━━━━━━━━━\u001b[0m\u001b[37m\u001b[0m \u001b[1m40s\u001b[0m 525ms/step - accuracy: 0.9368 - loss: 0.6511 - val_accuracy: 0.9091 - val_loss: 0.6390\n",
      "Epoch 5/15\n",
      "\u001b[1m42/42\u001b[0m \u001b[32m━━━━━━━━━━━━━━━━━━━━\u001b[0m\u001b[37m\u001b[0m \u001b[1m41s\u001b[0m 524ms/step - accuracy: 0.9461 - loss: 0.6310 - val_accuracy: 0.9030 - val_loss: 0.6226\n",
      "Epoch 6/15\n",
      "\u001b[1m42/42\u001b[0m \u001b[32m━━━━━━━━━━━━━━━━━━━━\u001b[0m\u001b[37m\u001b[0m \u001b[1m22s\u001b[0m 527ms/step - accuracy: 0.9626 - loss: 0.6097 - val_accuracy: 0.9242 - val_loss: 0.6014\n",
      "Epoch 7/15\n",
      "\u001b[1m42/42\u001b[0m \u001b[32m━━━━━━━━━━━━━━━━━━━━\u001b[0m\u001b[37m\u001b[0m \u001b[1m42s\u001b[0m 546ms/step - accuracy: 0.9732 - loss: 0.5886 - val_accuracy: 0.9273 - val_loss: 0.5851\n",
      "Epoch 8/15\n",
      "\u001b[1m42/42\u001b[0m \u001b[32m━━━━━━━━━━━━━━━━━━━━\u001b[0m\u001b[37m\u001b[0m \u001b[1m40s\u001b[0m 527ms/step - accuracy: 0.9737 - loss: 0.5704 - val_accuracy: 0.9303 - val_loss: 0.5678\n",
      "Epoch 9/15\n",
      "\u001b[1m42/42\u001b[0m \u001b[32m━━━━━━━━━━━━━━━━━━━━\u001b[0m\u001b[37m\u001b[0m \u001b[1m41s\u001b[0m 520ms/step - accuracy: 0.9819 - loss: 0.5518 - val_accuracy: 0.9394 - val_loss: 0.5506\n",
      "Epoch 10/15\n",
      "\u001b[1m42/42\u001b[0m \u001b[32m━━━━━━━━━━━━━━━━━━━━\u001b[0m\u001b[37m\u001b[0m \u001b[1m41s\u001b[0m 528ms/step - accuracy: 0.9740 - loss: 0.5371 - val_accuracy: 0.9212 - val_loss: 0.5431\n",
      "Epoch 11/15\n",
      "\u001b[1m42/42\u001b[0m \u001b[32m━━━━━━━━━━━━━━━━━━━━\u001b[0m\u001b[37m\u001b[0m \u001b[1m41s\u001b[0m 520ms/step - accuracy: 0.9801 - loss: 0.5192 - val_accuracy: 0.9394 - val_loss: 0.5235\n",
      "Epoch 12/15\n",
      "\u001b[1m42/42\u001b[0m \u001b[32m━━━━━━━━━━━━━━━━━━━━\u001b[0m\u001b[37m\u001b[0m \u001b[1m42s\u001b[0m 550ms/step - accuracy: 0.9765 - loss: 0.5038 - val_accuracy: 0.9303 - val_loss: 0.5102\n",
      "Epoch 13/15\n",
      "\u001b[1m42/42\u001b[0m \u001b[32m━━━━━━━━━━━━━━━━━━━━\u001b[0m\u001b[37m\u001b[0m \u001b[1m40s\u001b[0m 523ms/step - accuracy: 0.9822 - loss: 0.4896 - val_accuracy: 0.9273 - val_loss: 0.5055\n",
      "Epoch 14/15\n",
      "\u001b[1m42/42\u001b[0m \u001b[32m━━━━━━━━━━━━━━━━━━━━\u001b[0m\u001b[37m\u001b[0m \u001b[1m23s\u001b[0m 554ms/step - accuracy: 0.9779 - loss: 0.4785 - val_accuracy: 0.9424 - val_loss: 0.4820\n",
      "Epoch 15/15\n",
      "\u001b[1m42/42\u001b[0m \u001b[32m━━━━━━━━━━━━━━━━━━━━\u001b[0m\u001b[37m\u001b[0m \u001b[1m41s\u001b[0m 544ms/step - accuracy: 0.9795 - loss: 0.4636 - val_accuracy: 0.9545 - val_loss: 0.4675\n",
      "\u001b[1m11/11\u001b[0m \u001b[32m━━━━━━━━━━━━━━━━━━━━\u001b[0m\u001b[37m\u001b[0m \u001b[1m3s\u001b[0m 204ms/step\n"
     ]
    },
    {
     "data": {
      "text/plain": [
       "array([1, 0, 0, 0, 0, 0, 0, 1, 1, 0, 0, 0, 1, 0, 1, 0, 0, 1, 1, 1, 0, 0,\n",
       "       0, 0, 0, 0, 0, 1, 1, 1, 0, 1, 0, 0, 1, 1, 0, 0, 0, 0, 1, 0, 0, 0,\n",
       "       0, 0, 0, 0, 0, 1, 0, 0, 1, 0, 1, 0, 1, 1, 1, 1, 1, 0, 1, 0, 0, 0,\n",
       "       0, 0, 1, 0, 0, 1, 0, 0, 0, 1, 1, 1, 0, 1, 1, 1, 0, 0, 0, 0, 1, 1,\n",
       "       0, 1, 0, 0, 1, 0, 0, 0, 0, 0, 0, 1, 1, 0, 1, 1, 0, 0, 1, 0, 0, 0,\n",
       "       1, 0, 0, 0, 0, 0, 1, 0, 1, 0, 0, 0, 1, 0, 0, 0, 1, 0, 1, 1, 0, 1,\n",
       "       0, 0, 1, 0, 0, 0, 0, 1, 1, 0, 0, 0, 0, 0, 0, 0, 1, 1, 0, 1, 1, 1,\n",
       "       1, 1, 0, 0, 0, 0, 1, 1, 0, 0, 1, 0, 0, 1, 1, 0, 0, 1, 0, 1, 0, 1,\n",
       "       0, 0, 0, 1, 1, 0, 0, 1, 1, 1, 1, 0, 0, 1, 1, 0, 0, 0, 0, 1, 1, 1,\n",
       "       0, 0, 0, 1, 0, 1, 0, 1, 0, 1, 1, 1, 1, 1, 1, 1, 0, 0, 0, 0, 1, 1,\n",
       "       1, 0, 1, 0, 0, 0, 0, 0, 1, 0, 1, 0, 1, 1, 0, 1, 0, 1, 0, 1, 0, 0,\n",
       "       1, 0, 1, 0, 0, 1, 0, 1, 0, 0, 0, 0, 0, 1, 0, 0, 0, 1, 1, 0, 1, 0,\n",
       "       1, 1, 0, 0, 0, 1, 1, 0, 1, 0, 0, 1, 0, 0, 0, 1, 0, 1, 0, 0, 1, 0,\n",
       "       1, 0, 0, 0, 0, 0, 0, 0, 1, 0, 0, 0, 0, 0, 0, 1, 0, 0, 1, 1, 1, 1,\n",
       "       0, 1, 0, 1, 1, 1, 0, 1, 0, 0, 0, 0, 0, 1, 1, 1, 1, 0, 1, 0, 0, 0])"
      ]
     },
     "execution_count": 12,
     "metadata": {},
     "output_type": "execute_result"
    }
   ],
   "source": [
    "# Train the model with necessary input parameters such as input images, labels, batch_size, epochs,\n",
    "model.fit(X_train, Y_train,batch_size=batch_size,epochs=nb_epoch,shuffle=True,verbose=1,validation_data=(X_valid, Y_valid))\n",
    "\n",
    "# Make predictions on the validation set\n",
    "predictions_valid = model.predict(X_valid, batch_size=batch_size, verbose=1)\n",
    "\n",
    "# Get the class with the highest probability for each prediction\n",
    "validation_prediction = np.argmax(predictions_valid, axis=1)\n",
    "validation_prediction"
   ]
  },
  {
   "cell_type": "code",
   "execution_count": 15,
   "metadata": {
    "colab": {
     "base_uri": "https://localhost:8080/"
    },
    "id": "GWYdaZjd6Z69",
    "outputId": "8cf6f5c4-3366-4b02-be00-021dc78f98a3"
   },
   "outputs": [
    {
     "name": "stdout",
     "output_type": "stream",
     "text": [
      "Epoch 1/5\n",
      "\u001b[1m52/52\u001b[0m \u001b[32m━━━━━━━━━━━━━━━━━━━━\u001b[0m\u001b[37m\u001b[0m \u001b[1m48s\u001b[0m 923ms/step - accuracy: 0.9710 - loss: 0.4562\n",
      "Epoch 2/5\n",
      "\u001b[1m52/52\u001b[0m \u001b[32m━━━━━━━━━━━━━━━━━━━━\u001b[0m\u001b[37m\u001b[0m \u001b[1m60s\u001b[0m 486ms/step - accuracy: 0.9802 - loss: 0.4384\n",
      "Epoch 3/5\n",
      "\u001b[1m52/52\u001b[0m \u001b[32m━━━━━━━━━━━━━━━━━━━━\u001b[0m\u001b[37m\u001b[0m \u001b[1m41s\u001b[0m 495ms/step - accuracy: 0.9743 - loss: 0.4273\n",
      "Epoch 4/5\n",
      "\u001b[1m52/52\u001b[0m \u001b[32m━━━━━━━━━━━━━━━━━━━━\u001b[0m\u001b[37m\u001b[0m \u001b[1m41s\u001b[0m 490ms/step - accuracy: 0.9755 - loss: 0.4118\n",
      "Epoch 5/5\n",
      "\u001b[1m52/52\u001b[0m \u001b[32m━━━━━━━━━━━━━━━━━━━━\u001b[0m\u001b[37m\u001b[0m \u001b[1m41s\u001b[0m 494ms/step - accuracy: 0.9864 - loss: 0.3940\n",
      "\u001b[1m11/11\u001b[0m \u001b[32m━━━━━━━━━━━━━━━━━━━━\u001b[0m\u001b[37m\u001b[0m \u001b[1m1s\u001b[0m 126ms/step\n"
     ]
    },
    {
     "data": {
      "text/plain": [
       "array([1, 0, 0, 0, 0, 0, 0, 1, 1, 0, 0, 0, 1, 0, 1, 0, 0, 1, 1, 1, 0, 0,\n",
       "       0, 0, 0, 0, 0, 1, 1, 1, 0, 1, 0, 0, 1, 1, 0, 0, 0, 1, 1, 0, 0, 0,\n",
       "       0, 0, 0, 0, 0, 1, 1, 0, 1, 0, 1, 0, 1, 1, 1, 1, 1, 0, 1, 0, 0, 0,\n",
       "       0, 0, 1, 0, 0, 1, 0, 0, 0, 1, 1, 1, 0, 1, 1, 1, 0, 0, 0, 0, 1, 1,\n",
       "       0, 1, 0, 0, 1, 0, 0, 0, 0, 0, 0, 1, 1, 0, 1, 1, 0, 0, 1, 0, 0, 0,\n",
       "       0, 0, 0, 0, 0, 0, 1, 0, 1, 0, 0, 0, 1, 0, 0, 0, 1, 0, 1, 1, 0, 1,\n",
       "       0, 0, 1, 0, 0, 0, 0, 1, 1, 0, 0, 0, 0, 0, 0, 0, 1, 1, 0, 1, 1, 1,\n",
       "       1, 1, 0, 1, 0, 0, 1, 1, 0, 0, 1, 0, 0, 1, 1, 0, 0, 1, 0, 1, 1, 1,\n",
       "       0, 0, 0, 1, 1, 0, 0, 1, 1, 1, 1, 0, 0, 1, 1, 0, 0, 0, 0, 1, 1, 1,\n",
       "       1, 0, 0, 1, 0, 0, 0, 1, 0, 0, 1, 1, 1, 1, 1, 1, 0, 0, 0, 0, 1, 1,\n",
       "       1, 0, 1, 0, 0, 0, 0, 0, 1, 0, 1, 0, 1, 1, 0, 1, 0, 0, 0, 1, 0, 0,\n",
       "       1, 0, 1, 0, 0, 1, 0, 1, 0, 0, 0, 0, 0, 1, 0, 0, 0, 1, 1, 0, 1, 0,\n",
       "       1, 1, 0, 0, 0, 1, 1, 0, 1, 0, 0, 1, 0, 0, 0, 1, 0, 1, 0, 0, 1, 0,\n",
       "       1, 0, 0, 0, 0, 0, 0, 0, 0, 0, 0, 0, 0, 0, 0, 1, 0, 0, 1, 1, 1, 1,\n",
       "       0, 1, 0, 1, 1, 1, 0, 1, 0, 1, 0, 0, 0, 1, 1, 1, 1, 0, 1, 0, 0, 0])"
      ]
     },
     "execution_count": 15,
     "metadata": {},
     "output_type": "execute_result"
    }
   ],
   "source": [
    "combined_data = np.concatenate((X_train, X_valid))\n",
    "combined_labels = np.concatenate((Y_train, Y_valid))\n",
    "\n",
    "# Step 3: Train on the combined dataset for 5 more epochs\n",
    "additional_epochs = 5\n",
    "history_combined = model.fit(combined_data, combined_labels, epochs=additional_epochs, batch_size=batch_size, shuffle=True, verbose=1)\n",
    "\n",
    "predictions_valid = model.predict(X_valid, batch_size=batch_size, verbose=1)\n",
    "\n",
    "# Get the class with the highest probability for each prediction\n",
    "validation_prediction = np.argmax(predictions_valid, axis=1)\n",
    "validation_prediction"
   ]
  },
  {
   "cell_type": "code",
   "execution_count": 16,
   "metadata": {
    "colab": {
     "base_uri": "https://localhost:8080/"
    },
    "id": "y2QjAXlEFgJM",
    "outputId": "279c3117-0b15-4791-d8c3-db78111627c3"
   },
   "outputs": [
    {
     "name": "stderr",
     "output_type": "stream",
     "text": [
      "100%|██████████| 706/706 [00:00<00:00, 978.54it/s]\n"
     ]
    },
    {
     "name": "stdout",
     "output_type": "stream",
     "text": [
      "\u001b[1m23/23\u001b[0m \u001b[32m━━━━━━━━━━━━━━━━━━━━\u001b[0m\u001b[37m\u001b[0m \u001b[1m5s\u001b[0m 236ms/step\n"
     ]
    },
    {
     "data": {
      "text/plain": [
       "array([0, 1, 0, 1, 0, 1, 0, 1, 0, 1, 0, 0, 0, 0, 0, 1, 0, 1, 1, 1, 1, 0,\n",
       "       0, 0, 0, 0, 1, 0, 0, 1, 1, 0, 1, 0, 0, 0, 1, 1, 0, 0, 1, 1, 0, 0,\n",
       "       1, 0, 0, 0, 0, 0, 1, 1, 0, 0, 1, 0, 1, 1, 0, 0, 1, 1, 0, 0, 1, 0,\n",
       "       1, 1, 1, 0, 0, 0, 1, 0, 0, 0, 1, 1, 1, 1, 0, 1, 1, 0, 0, 0, 0, 1,\n",
       "       1, 1, 0, 0, 0, 1, 0, 1, 1, 0, 0, 1, 1, 0, 0, 0, 1, 1, 1, 0, 0, 0,\n",
       "       0, 0, 0, 0, 0, 0, 1, 1, 1, 0, 1, 0, 0, 0, 0, 0, 1, 0, 1, 1, 1, 1,\n",
       "       1, 0, 0, 1, 1, 1, 0, 1, 0, 1, 0, 1, 0, 1, 1, 1, 0, 1, 0, 0, 1, 0,\n",
       "       1, 0, 0, 1, 1, 1, 0, 0, 1, 1, 1, 1, 0, 0, 0, 0, 0, 0, 0, 0, 0, 1,\n",
       "       0, 0, 1, 0, 1, 0, 0, 0, 0, 0, 0, 0, 1, 1, 1, 0, 1, 1, 1, 0, 1, 0,\n",
       "       0, 0, 0, 0, 0, 0, 0, 0, 0, 1, 0, 1, 1, 1, 1, 0, 1, 1, 1, 0, 1, 0,\n",
       "       1, 0, 0, 0, 0, 1, 1, 0, 0, 1, 1, 0, 0, 0, 0, 0, 1, 1, 0, 1, 0, 1,\n",
       "       0, 0, 1, 1, 0, 0, 0, 0, 1, 1, 1, 0, 0, 1, 0, 0, 1, 0, 1, 0, 0, 0,\n",
       "       0, 1, 1, 0, 1, 1, 0, 0, 1, 1, 0, 1, 0, 0, 0, 0, 0, 0, 0, 1, 0, 1,\n",
       "       0, 1, 0, 1, 0, 0, 1, 0, 1, 1, 0, 1, 1, 1, 1, 1, 1, 0, 0, 0, 1, 0,\n",
       "       0, 0, 1, 1, 0, 0, 0, 0, 0, 1, 1, 0, 0, 1, 1, 1, 1, 0, 0, 0, 1, 1,\n",
       "       0, 1, 0, 0, 1, 1, 0, 0, 0, 0, 0, 1, 0, 1, 1, 0, 1, 1, 0, 1, 0, 1,\n",
       "       1, 0, 0, 1, 0, 0, 1, 0, 1, 1, 0, 1, 0, 1, 0, 1, 0, 1, 0, 0, 0, 1,\n",
       "       1, 0, 0, 0, 1, 1, 0, 1, 0, 0, 1, 0, 1, 0, 1, 1, 0, 0, 1, 1, 1, 0,\n",
       "       0, 1, 0, 0, 0, 1, 0, 1, 1, 1, 1, 0, 1, 0, 1, 1, 0, 1, 1, 1, 1, 0,\n",
       "       1, 1, 0, 0, 0, 1, 1, 0, 1, 1, 0, 0, 1, 1, 0, 0, 0, 1, 0, 1, 1, 0,\n",
       "       1, 0, 1, 0, 1, 0, 0, 1, 0, 0, 0, 0, 0, 1, 1, 1, 1, 1, 0, 1, 0, 0,\n",
       "       0, 0, 1, 1, 0, 1, 1, 0, 0, 1, 1, 1, 1, 1, 0, 1, 1, 0, 0, 1, 0, 0,\n",
       "       0, 1, 0, 1, 0, 1, 0, 1, 1, 0, 0, 1, 0, 0, 1, 0, 1, 1, 0, 0, 0, 0,\n",
       "       0, 0, 1, 0, 0, 1, 1, 0, 0, 1, 1, 1, 0, 0, 1, 0, 1, 0, 1, 1, 1, 1,\n",
       "       0, 0, 1, 1, 0, 0, 0, 0, 1, 1, 0, 1, 1, 1, 0, 0, 1, 1, 1, 0, 1, 1,\n",
       "       0, 0, 0, 0, 0, 0, 1, 0, 1, 0, 0, 1, 1, 0, 1, 1, 0, 1, 0, 0, 0, 0,\n",
       "       1, 0, 0, 1, 1, 0, 0, 1, 0, 1, 1, 1, 0, 0, 0, 0, 0, 0, 1, 0, 1, 0,\n",
       "       0, 0, 0, 1, 1, 0, 0, 1, 0, 1, 0, 0, 0, 1, 0, 1, 1, 1, 1, 1, 1, 0,\n",
       "       0, 1, 1, 0, 1, 1, 1, 0, 0, 1, 1, 0, 1, 0, 0, 0, 1, 0, 0, 0, 1, 1,\n",
       "       1, 0, 1, 0, 1, 0, 0, 0, 1, 1, 1, 1, 0, 0, 0, 1, 1, 1, 0, 1, 0, 0,\n",
       "       1, 0, 1, 0, 1, 1, 0, 1, 1, 0, 1, 1, 1, 0, 0, 1, 1, 0, 0, 0, 0, 1,\n",
       "       1, 0, 0, 0, 1, 1, 1, 0, 1, 0, 1, 1, 0, 0, 1, 0, 0, 0, 0, 1, 0, 1,\n",
       "       0, 0])"
      ]
     },
     "execution_count": 16,
     "metadata": {},
     "output_type": "execute_result"
    }
   ],
   "source": [
    "# Load the test data from a CSV file\n",
    "test = pd.read_csv('/content/Qualcomm-DL-Hackathon/test.csv')\n",
    "\n",
    "# Initialize an empty list to store the test images\n",
    "test_image = []\n",
    "for i in tqdm(range(test.shape[0])):\n",
    "    # Loading the image and resizing it to 224x224 pixels, Converting the image to an array and Appending the image array to the list\n",
    "    img = image.load_img('/content/Qualcomm-DL-Hackathon/train/all_images/'+test['image_names'][i], target_size=(224,224))\n",
    "    img = image.img_to_array(img)\n",
    "    test_image.append(img)\n",
    "\n",
    "# Convert the list of test images to a numpy array\n",
    "test_image = np.stack(test_image)\n",
    "test_image.shape\n",
    "\n",
    "# Make predictions on the test images\n",
    "predictions_test = model.predict(test_image, batch_size=batch_size, verbose=1)\n",
    "predictions_test\n",
    "\n",
    "# Get the class with the highest probability for each prediction\n",
    "test_prediction = np.argmax(predictions_test, axis=1)\n",
    "test_prediction"
   ]
  },
  {
   "cell_type": "code",
   "execution_count": 17,
   "metadata": {
    "id": "1nT4NXlUFtOd"
   },
   "outputs": [],
   "source": [
    "# Add the predictions to the test data\n",
    "test['emergency_or_not'] = test_prediction\n",
    "\n",
    "# Save the updated test data with predictions to a new CSV file\n",
    "test.to_csv('/content/Qualcomm-DL-Hackathon/submission_latest.csv', header=True, index=False)"
   ]
  },
  {
   "cell_type": "code",
   "execution_count": null,
   "metadata": {
    "id": "iDkChKfW6wYI"
   },
   "outputs": [],
   "source": []
  }
 ],
 "metadata": {
  "accelerator": "GPU",
  "colab": {
   "gpuType": "T4",
   "provenance": []
  },
  "kernelspec": {
   "display_name": "Python 3 (ipykernel)",
   "language": "python",
   "name": "python3"
  },
  "language_info": {
   "codemirror_mode": {
    "name": "ipython",
    "version": 3
   },
   "file_extension": ".py",
   "mimetype": "text/x-python",
   "name": "python",
   "nbconvert_exporter": "python",
   "pygments_lexer": "ipython3",
   "version": "3.10.4"
  }
 },
 "nbformat": 4,
 "nbformat_minor": 4
}
