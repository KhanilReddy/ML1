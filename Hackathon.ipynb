{
  "nbformat": 4,
  "nbformat_minor": 0,
  "metadata": {
    "colab": {
      "provenance": [],
      "gpuType": "T4",
      "authorship_tag": "ABX9TyMqsMxUx4myf/e8Mv5bNDdS",
      "include_colab_link": true
    },
    "kernelspec": {
      "name": "python3",
      "display_name": "Python 3"
    },
    "language_info": {
      "name": "python"
    },
    "accelerator": "GPU"
  },
  "cells": [
    {
      "cell_type": "markdown",
      "metadata": {
        "id": "view-in-github",
        "colab_type": "text"
      },
      "source": [
        "<a href=\"https://colab.research.google.com/github/KhanilReddy/ML1/blob/main/Hackathon.ipynb\" target=\"_parent\"><img src=\"https://colab.research.google.com/assets/colab-badge.svg\" alt=\"Open In Colab\"/></a>"
      ]
    },
    {
      "cell_type": "code",
      "execution_count": null,
      "metadata": {
        "id": "R8ug0C-6fA4S"
      },
      "outputs": [],
      "source": []
    },
    {
      "cell_type": "code",
      "source": [
        "!git clone https://github.com/Prashant-AV/Qualcomm-DL-Hackathon.git"
      ],
      "metadata": {
        "colab": {
          "base_uri": "https://localhost:8080/"
        },
        "id": "SMHiPrl7fLOB",
        "outputId": "cc43a13b-99c0-4b7d-8f4e-5a0226a5206e"
      },
      "execution_count": null,
      "outputs": [
        {
          "output_type": "stream",
          "name": "stdout",
          "text": [
            "Cloning into 'Qualcomm-DL-Hackathon'...\n",
            "remote: Enumerating objects: 10, done.\u001b[K\n",
            "remote: Counting objects: 100% (10/10), done.\u001b[K\n",
            "remote: Compressing objects: 100% (10/10), done.\u001b[K\n",
            "remote: Total 10 (delta 1), reused 0 (delta 0), pack-reused 0 (from 0)\u001b[K\n",
            "Receiving objects: 100% (10/10), 30.68 MiB | 9.85 MiB/s, done.\n",
            "Resolving deltas: 100% (1/1), done.\n"
          ]
        }
      ]
    },
    {
      "cell_type": "code",
      "source": [
        "import zipfile\n",
        "import os\n",
        "import shutil\n",
        "\n",
        "def extract_all_files(zip_dir, output_dir):\n",
        "    \"\"\"\n",
        "        This function is used to extract all the images from images part-1.zip and images part-2.zip to all_images folder\n",
        "    \"\"\"\n",
        "    if os.path.exists(zip_dir):\n",
        "      # Get the zip files in train directory\n",
        "      files = os.listdir(zip_dir)\n",
        "      zip_files = [f for f in files if f.endswith('.zip')]\n",
        "\n",
        "      if not os.path.exists(output_dir):\n",
        "        os.mkdir(output_dir)\n",
        "\n",
        "      # Extract each zip file\n",
        "      for zip_file in zip_files:\n",
        "          with zipfile.ZipFile(os.path.join(zip_dir, zip_file), 'r') as zip_ref:\n",
        "              for member in zip_ref.namelist():\n",
        "                  # Extract each file to the all_images directory without creating subfolders\n",
        "                  filename = os.path.basename(member)\n",
        "                  if filename:\n",
        "                      source = zip_ref.open(member)\n",
        "                      target = open(os.path.join(output_dir, filename), \"wb\")\n",
        "                      with source, target:\n",
        "                          shutil.copyfileobj(source, target)\n",
        "    else:\n",
        "      print(\"f{zip_dir} doesn't exits\")"
      ],
      "metadata": {
        "id": "BI3TJ1GHfaoY"
      },
      "execution_count": 2,
      "outputs": []
    },
    {
      "cell_type": "code",
      "source": [
        "# Define the directory containing the zip files and the all_images directory\n",
        "train_directory = '/content/Qualcomm-DL-Hackathon/train/'\n",
        "all_images_directory = os.path.join(train_directory , 'all_images')\n",
        "\n",
        "# Extract all files from the zip files to the all_images directory\n",
        "extract_all_files(train_directory, all_images_directory)\n",
        "\n",
        "print(f\"All files have been extracted to {all_images_directory}.\")"
      ],
      "metadata": {
        "colab": {
          "base_uri": "https://localhost:8080/"
        },
        "id": "gRV5Uk4jfiuX",
        "outputId": "c35b6fac-0116-4798-dce5-ac9b722b70fd"
      },
      "execution_count": 3,
      "outputs": [
        {
          "output_type": "stream",
          "name": "stdout",
          "text": [
            "All files have been extracted to /content/Qualcomm-DL-Hackathon/train/all_images.\n"
          ]
        }
      ]
    },
    {
      "cell_type": "code",
      "source": [
        "from tensorflow import keras\n",
        "from keras.models import Sequential\n",
        "get_ipython().magic('matplotlib inline')\n",
        "import matplotlib.pyplot as plt\n",
        "import numpy as np\n",
        "import keras\n",
        "from keras.layers import Dense\n",
        "import pandas as pd\n",
        "\n",
        "from keras.applications.vgg16 import VGG16\n",
        "from keras.preprocessing import image\n",
        "from keras.applications.vgg16 import preprocess_input\n",
        "import numpy as np\n",
        "from keras.applications.vgg16 import decode_predictions\n",
        "from keras.utils import to_categorical\n",
        "from sklearn.preprocessing import LabelEncoder\n",
        "from keras.models import Sequential\n",
        "from keras.optimizers import SGD\n",
        "from keras.layers import Input, Dense, Convolution2D, MaxPooling2D, AveragePooling2D, ZeroPadding2D, Dropout, Flatten, Reshape, Activation\n",
        "\n",
        "from sklearn.metrics import log_loss\n",
        "from tqdm import tqdm\n"
      ],
      "metadata": {
        "id": "DT2FbB2Qfzbm"
      },
      "execution_count": 4,
      "outputs": []
    },
    {
      "cell_type": "code",
      "source": [
        "train = pd.read_csv('/content/Qualcomm-DL-Hackathon/train/train.csv')\n",
        "\n",
        "train_img=[]\n",
        "for i in tqdm(range(train.shape[0])):\n",
        "  temp_img = image.load_img('/content/Qualcomm-DL-Hackathon/train/all_images/'+train['image_names'][i], target_size=(224,224))\n",
        "  temp_img=image.img_to_array(temp_img)\n",
        "\n",
        "  train_img.append(temp_img)\n"
      ],
      "metadata": {
        "colab": {
          "base_uri": "https://localhost:8080/"
        },
        "id": "VQ3Ge5h7FBYA",
        "outputId": "d6409ed3-f97d-4f0a-83a9-446aeec80dea"
      },
      "execution_count": 5,
      "outputs": [
        {
          "output_type": "stream",
          "name": "stderr",
          "text": [
            "100%|██████████| 1646/1646 [00:03<00:00, 423.61it/s]\n"
          ]
        }
      ]
    },
    {
      "cell_type": "code",
      "source": [
        "from keras.models import Model\n",
        "\n",
        "def vgg16_model(img_rows, img_cols, channel=1, num_classes=None):\n",
        "\n",
        "    base_model = VGG16(weights='imagenet', include_top=False, input_shape=(img_rows, img_cols, channel))\n",
        "    # Freeze the layers which you don't want to train\n",
        "    for layer in base_model.layers:\n",
        "        layer.trainable = False\n",
        "\n",
        "    # Add custom layers on top of the base model\n",
        "    x = base_model.output\n",
        "    x = Flatten()(x)\n",
        "    x = Dense(256, activation='relu')(x)\n",
        "    x = Dropout(0.5)(x)\n",
        "    x = Dense(num_classes, activation='softmax')(x)\n",
        "\n",
        "    # Create the new model\n",
        "    model = Model(inputs=base_model.input, outputs=x)\n",
        "\n",
        "    # Compile the model\n",
        "    model.compile(loss='categorical_crossentropy', optimizer='adam', metrics=['accuracy'])\n",
        "\n",
        "    return model"
      ],
      "metadata": {
        "id": "N1UUhXNYFR5-"
      },
      "execution_count": 6,
      "outputs": []
    },
    {
      "cell_type": "code",
      "source": [
        "train_y = train['emergency_or_not'].values\n",
        "le = LabelEncoder()\n",
        "\n",
        "train_y = le.fit_transform(train_y)\n",
        "\n",
        "train_y=to_categorical(train_y)\n",
        "train_y=np.array(train_y)\n",
        "\n",
        "from sklearn.model_selection import train_test_split\n",
        "X_train, X_valid, Y_train, Y_valid=train_test_split(train_img,train_y,test_size=0.2, random_state=42)\n",
        "\n",
        "# Example to fine-tune on 3000 samples from Cifar10\n",
        "\n",
        "img_rows, img_cols = 224, 224 # Resolution of inputs\n",
        "channel = 3\n",
        "num_classes = 2\n",
        "batch_size = 32\n",
        "nb_epoch = 5\n",
        "\n",
        "X_train = np.stack(X_train)\n",
        "X_valid = np.stack(X_valid)\n",
        "Y_train = np.stack(Y_train)\n",
        "Y_valid = np.stack(Y_valid)\n",
        "\n",
        "# Load our model\n",
        "model = vgg16_model(img_rows, img_cols, channel, num_classes)"
      ],
      "metadata": {
        "colab": {
          "base_uri": "https://localhost:8080/"
        },
        "id": "XaHiu9zKFWXQ",
        "outputId": "d509936e-718f-4d37-ef6c-db373e28a01c"
      },
      "execution_count": 7,
      "outputs": [
        {
          "output_type": "stream",
          "name": "stdout",
          "text": [
            "Downloading data from https://storage.googleapis.com/tensorflow/keras-applications/vgg16/vgg16_weights_tf_dim_ordering_tf_kernels_notop.h5\n",
            "\u001b[1m58889256/58889256\u001b[0m \u001b[32m━━━━━━━━━━━━━━━━━━━━\u001b[0m\u001b[37m\u001b[0m \u001b[1m0s\u001b[0m 0us/step\n"
          ]
        }
      ]
    },
    {
      "cell_type": "code",
      "source": [
        "model.fit(X_train, Y_train,batch_size=batch_size,epochs=nb_epoch,shuffle=True,verbose=1,validation_data=(X_valid, Y_valid))\n",
        "\n",
        "# Make predictions\n",
        "predictions_valid = model.predict(X_valid, batch_size=batch_size, verbose=1)\n",
        "\n",
        "c = np.argmax(predictions_valid, axis=1)\n",
        "c"
      ],
      "metadata": {
        "colab": {
          "base_uri": "https://localhost:8080/"
        },
        "id": "gKZXw6B8Fb9d",
        "outputId": "37476304-3da9-4165-c68d-4fcc061840e4"
      },
      "execution_count": null,
      "outputs": [
        {
          "output_type": "stream",
          "name": "stdout",
          "text": [
            "Epoch 1/5\n",
            "\u001b[1m42/42\u001b[0m \u001b[32m━━━━━━━━━━━━━━━━━━━━\u001b[0m\u001b[37m\u001b[0m \u001b[1m1011s\u001b[0m 24s/step - accuracy: 0.7419 - loss: 27.3826 - val_accuracy: 0.8970 - val_loss: 3.4325\n",
            "Epoch 2/5\n",
            "\u001b[1m42/42\u001b[0m \u001b[32m━━━━━━━━━━━━━━━━━━━━\u001b[0m\u001b[37m\u001b[0m \u001b[1m1033s\u001b[0m 24s/step - accuracy: 0.9315 - loss: 1.2454 - val_accuracy: 0.8939 - val_loss: 1.3597\n",
            "Epoch 3/5\n",
            "\u001b[1m42/42\u001b[0m \u001b[32m━━━━━━━━━━━━━━━━━━━━\u001b[0m\u001b[37m\u001b[0m \u001b[1m997s\u001b[0m 24s/step - accuracy: 0.9666 - loss: 0.1890 - val_accuracy: 0.8909 - val_loss: 1.3511\n",
            "Epoch 4/5\n",
            "\u001b[1m11/42\u001b[0m \u001b[32m━━━━━\u001b[0m\u001b[37m━━━━━━━━━━━━━━━\u001b[0m \u001b[1m10:02\u001b[0m 19s/step - accuracy: 0.9636 - loss: 0.1449"
          ]
        }
      ]
    },
    {
      "cell_type": "code",
      "source": [
        "test = pd.read_csv('/content/Qualcomm-DL-Hackathon/test.csv')\n",
        "\n",
        "test_image = []\n",
        "for i in tqdm(range(test.shape[0])):\n",
        "    img = image.load_img('/content/Qualcomm-DL-Hackathon/train/all_images/'+test['image_names'][i], target_size=(224,224))\n",
        "    img = image.img_to_array(img)\n",
        "    test_image.append(img)\n",
        "\n",
        "test_image = np.stack(test_image)\n",
        "test_image.shape\n",
        "\n",
        "# Make predictions\n",
        "predictions_valid2 = model.predict(test_image, batch_size=batch_size, verbose=1)\n",
        "\n",
        "predictions_valid2\n",
        "\n",
        "d = np.argmax(predictions_valid2, axis=1)\n",
        "d"
      ],
      "metadata": {
        "colab": {
          "base_uri": "https://localhost:8080/",
          "height": 211
        },
        "id": "y2QjAXlEFgJM",
        "outputId": "a22818cb-6d1b-408e-c4b9-2afc975ca9f9"
      },
      "execution_count": null,
      "outputs": [
        {
          "output_type": "error",
          "ename": "NameError",
          "evalue": "name 'pd' is not defined",
          "traceback": [
            "\u001b[0;31m---------------------------------------------------------------------------\u001b[0m",
            "\u001b[0;31mNameError\u001b[0m                                 Traceback (most recent call last)",
            "\u001b[0;32m<ipython-input-4-8832240bfa4f>\u001b[0m in \u001b[0;36m<cell line: 1>\u001b[0;34m()\u001b[0m\n\u001b[0;32m----> 1\u001b[0;31m \u001b[0mest\u001b[0m \u001b[0;34m=\u001b[0m \u001b[0mpd\u001b[0m\u001b[0;34m.\u001b[0m\u001b[0mread_csv\u001b[0m\u001b[0;34m(\u001b[0m\u001b[0;34m'test_set.csv'\u001b[0m\u001b[0;34m)\u001b[0m\u001b[0;34m\u001b[0m\u001b[0;34m\u001b[0m\u001b[0m\n\u001b[0m\u001b[1;32m      2\u001b[0m \u001b[0;34m\u001b[0m\u001b[0m\n\u001b[1;32m      3\u001b[0m \u001b[0mtest_image\u001b[0m \u001b[0;34m=\u001b[0m \u001b[0;34m[\u001b[0m\u001b[0;34m]\u001b[0m\u001b[0;34m\u001b[0m\u001b[0;34m\u001b[0m\u001b[0m\n\u001b[1;32m      4\u001b[0m \u001b[0;32mfor\u001b[0m \u001b[0mi\u001b[0m \u001b[0;32min\u001b[0m \u001b[0mtqdm\u001b[0m\u001b[0;34m(\u001b[0m\u001b[0mrange\u001b[0m\u001b[0;34m(\u001b[0m\u001b[0mtest\u001b[0m\u001b[0;34m.\u001b[0m\u001b[0mshape\u001b[0m\u001b[0;34m[\u001b[0m\u001b[0;36m0\u001b[0m\u001b[0;34m]\u001b[0m\u001b[0;34m)\u001b[0m\u001b[0;34m)\u001b[0m\u001b[0;34m:\u001b[0m\u001b[0;34m\u001b[0m\u001b[0;34m\u001b[0m\u001b[0m\n\u001b[1;32m      5\u001b[0m     \u001b[0mimg\u001b[0m \u001b[0;34m=\u001b[0m \u001b[0mimage\u001b[0m\u001b[0;34m.\u001b[0m\u001b[0mload_img\u001b[0m\u001b[0;34m(\u001b[0m\u001b[0;34m'images/'\u001b[0m\u001b[0;34m+\u001b[0m\u001b[0mtest\u001b[0m\u001b[0;34m[\u001b[0m\u001b[0;34m'image_names'\u001b[0m\u001b[0;34m]\u001b[0m\u001b[0;34m[\u001b[0m\u001b[0mi\u001b[0m\u001b[0;34m]\u001b[0m\u001b[0;34m,\u001b[0m \u001b[0mtarget_size\u001b[0m\u001b[0;34m=\u001b[0m\u001b[0;34m(\u001b[0m\u001b[0;36m224\u001b[0m\u001b[0;34m,\u001b[0m\u001b[0;36m224\u001b[0m\u001b[0;34m)\u001b[0m\u001b[0;34m,\u001b[0m \u001b[0mgrayscale\u001b[0m\u001b[0;34m=\u001b[0m\u001b[0;32mFalse\u001b[0m\u001b[0;34m)\u001b[0m\u001b[0;34m\u001b[0m\u001b[0;34m\u001b[0m\u001b[0m\n",
            "\u001b[0;31mNameError\u001b[0m: name 'pd' is not defined"
          ]
        }
      ]
    },
    {
      "cell_type": "code",
      "source": [
        "# creating submission file\n",
        "sample = pd.read_csv('/content/Qualcomm-DL-Hackathon/test.csv')\n",
        "sample['emergency_or_not'] = d\n",
        "sample.to_csv('/content/Qualcomm-DL-Hackathon/submission.csv', header=True, index=False)"
      ],
      "metadata": {
        "id": "1nT4NXlUFtOd"
      },
      "execution_count": null,
      "outputs": []
    }
  ]
}