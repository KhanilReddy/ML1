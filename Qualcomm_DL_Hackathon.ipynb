{
  "nbformat": 4,
  "nbformat_minor": 0,
  "metadata": {
    "colab": {
      "provenance": [],
      "authorship_tag": "ABX9TyO26gXWl2ShrVLTmbtMlvZf",
      "include_colab_link": true
    },
    "kernelspec": {
      "name": "python3",
      "display_name": "Python 3"
    },
    "language_info": {
      "name": "python"
    }
  },
  "cells": [
    {
      "cell_type": "markdown",
      "metadata": {
        "id": "view-in-github",
        "colab_type": "text"
      },
      "source": [
        "<a href=\"https://colab.research.google.com/github/KhanilReddy/ML1/blob/main/Qualcomm_DL_Hackathon.ipynb\" target=\"_parent\"><img src=\"https://colab.research.google.com/assets/colab-badge.svg\" alt=\"Open In Colab\"/></a>"
      ]
    },
    {
      "cell_type": "code",
      "execution_count": 1,
      "metadata": {
        "colab": {
          "base_uri": "https://localhost:8080/"
        },
        "id": "Q2tVIbRuI7km",
        "outputId": "7da52ac8-f106-4162-b2a8-48a8474b19c9"
      },
      "outputs": [
        {
          "output_type": "stream",
          "name": "stdout",
          "text": [
            "Cloning into 'Qualcomm-DL-Hackathon'...\n",
            "remote: Enumerating objects: 10, done.\u001b[K\n",
            "remote: Counting objects: 100% (10/10), done.\u001b[K\n",
            "remote: Compressing objects: 100% (10/10), done.\u001b[K\n",
            "remote: Total 10 (delta 1), reused 0 (delta 0), pack-reused 0 (from 0)\u001b[K\n",
            "Receiving objects: 100% (10/10), 30.68 MiB | 27.65 MiB/s, done.\n",
            "Resolving deltas: 100% (1/1), done.\n"
          ]
        }
      ],
      "source": [
        "!git clone https://github.com/Prashant-AV/Qualcomm-DL-Hackathon.git"
      ]
    },
    {
      "cell_type": "code",
      "source": [
        "import zipfile\n",
        "import os\n",
        "import shutil\n",
        "\n",
        "def extract_all_files(zip_dir, output_dir):\n",
        "    \"\"\"\n",
        "        This function is used to extract all the images from images part-1.zip and images part-2.zip to all_images folder\n",
        "    \"\"\"\n",
        "    if os.path.exists(zip_dir):\n",
        "      # Get the zip files in train directory\n",
        "      files = os.listdir(zip_dir)\n",
        "      zip_files = [f for f in files if f.endswith('.zip')]\n",
        "\n",
        "      if not os.path.exists(output_dir):\n",
        "        os.mkdir(output_dir)\n",
        "\n",
        "      # Extract each zip file\n",
        "      for zip_file in zip_files:\n",
        "          with zipfile.ZipFile(os.path.join(zip_dir, zip_file), 'r') as zip_ref:\n",
        "              for member in zip_ref.namelist():\n",
        "                  # Extract each file to the all_images directory without creating subfolders\n",
        "                  filename = os.path.basename(member)\n",
        "                  if filename:\n",
        "                      source = zip_ref.open(member)\n",
        "                      target = open(os.path.join(output_dir, filename), \"wb\")\n",
        "                      with source, target:\n",
        "                          shutil.copyfileobj(source, target)\n",
        "    else:\n",
        "      print(\"f{zip_dir} doesn't exits\")"
      ],
      "metadata": {
        "id": "iNwb6JAFKVmY"
      },
      "execution_count": 10,
      "outputs": []
    },
    {
      "cell_type": "code",
      "source": [
        "# Define the directory containing the zip files and the output directory\n",
        "train_directory = '/content/Qualcomm-DL-Hackathon/train/'\n",
        "all_images_directory = train_directory + 'all_images'\n",
        "\n",
        "# Extract all files from the zip files to the all_images directory\n",
        "extract_all_files(train_directory, all_images_directory)\n",
        "\n",
        "print(f\"All files have been extracted to {all_images_directory}.\")"
      ],
      "metadata": {
        "colab": {
          "base_uri": "https://localhost:8080/"
        },
        "id": "hl-lr_chyOTw",
        "outputId": "783e6b09-865d-4881-cc6b-ab1bd081b033"
      },
      "execution_count": 11,
      "outputs": [
        {
          "output_type": "stream",
          "name": "stdout",
          "text": [
            "All files have been extracted to /content/Qualcomm-DL-Hackathon/train/all_images.\n"
          ]
        }
      ]
    },
    {
      "cell_type": "code",
      "source": [
        "!ls '/content/Qualcomm-DL-Hackathon/train/all_images' | wc -l"
      ],
      "metadata": {
        "colab": {
          "base_uri": "https://localhost:8080/"
        },
        "id": "3qu4SFV1xLG2",
        "outputId": "5428d3ef-f137-4e94-9594-6c311341557c"
      },
      "execution_count": 12,
      "outputs": [
        {
          "output_type": "stream",
          "name": "stdout",
          "text": [
            "2352\n"
          ]
        }
      ]
    },
    {
      "cell_type": "code",
      "source": [
        "#!rm -r \"/content/Qualcomm-DL-Hackathon/train/all_images\""
      ],
      "metadata": {
        "id": "K1UFLN7Rv-o7"
      },
      "execution_count": 6,
      "outputs": []
    },
    {
      "cell_type": "code",
      "source": [
        "import pandas as pd\n",
        "\n",
        "# Load the train CSV file\n",
        "train_csv = os.path.join(train_directory , 'train.csv')\n",
        "data = pd.read_csv(train_csv)\n",
        "image_names = data['image_names'].tolist()\n",
        "labels = data['emergency_or_not'].tolist()\n",
        "print(image_names)\n",
        "print(labels)"
      ],
      "metadata": {
        "colab": {
          "base_uri": "https://localhost:8080/"
        },
        "collapsed": true,
        "id": "M1NPmTY01dV2",
        "outputId": "1b28bd27-d98f-415f-a1fe-427c7e8fbfa9"
      },
      "execution_count": 13,
      "outputs": [
        {
          "output_type": "stream",
          "name": "stdout",
          "text": [
            "['1503.jpg', '1420.jpg', '1764.jpg', '1356.jpg', '1117.jpg', '45.jpg', '2313.jpg', '1657.jpg', '294.jpg', '999.jpg', '588.jpg', '1912.jpg', '736.jpg', '1106.jpg', '1939.jpg', '1833.jpg', '436.jpg', '741.jpg', '2133.jpg', '393.jpg', '907.jpg', '534.jpg', '30.jpg', '1994.jpg', '1526.jpg', '1114.jpg', '1176.jpg', '1304.jpg', '1972.jpg', '2084.jpg', '1231.jpg', '1336.jpg', '2110.jpg', '344.jpg', '556.jpg', '1242.jpg', '680.jpg', '744.jpg', '1071.jpg', '352.jpg', '91.jpg', '1058.jpg', '1914.jpg', '1957.jpg', '1091.jpg', '261.jpg', '1742.jpg', '748.jpg', '755.jpg', '764.jpg', '567.jpg', '1915.jpg', '1658.jpg', '1871.jpg', '913.jpg', '2141.jpg', '1619.jpg', '300.jpg', '1590.jpg', '2042.jpg', '1090.jpg', '1763.jpg', '315.jpg', '1840.jpg', '453.jpg', '601.jpg', '175.jpg', '1387.jpg', '1133.jpg', '37.jpg', '123.jpg', '1234.jpg', '394.jpg', '1775.jpg', '2217.jpg', '39.jpg', '462.jpg', '1989.jpg', '2075.jpg', '331.jpg', '1546.jpg', '194.jpg', '2211.jpg', '2236.jpg', '634.jpg', '322.jpg', '1870.jpg', '266.jpg', '1057.jpg', '1934.jpg', '579.jpg', '1337.jpg', '1674.jpg', '2001.jpg', '1971.jpg', '891.jpg', '1909.jpg', '2249.jpg', '1518.jpg', '1298.jpg', '1258.jpg', '1378.jpg', '2268.jpg', '1067.jpg', '572.jpg', '942.jpg', '2057.jpg', '2132.jpg', '2327.jpg', '1691.jpg', '941.jpg', '962.jpg', '53.jpg', '772.jpg', '1272.jpg', '2019.jpg', '1347.jpg', '505.jpg', '752.jpg', '1613.jpg', '1710.jpg', '2220.jpg', '1468.jpg', '2017.jpg', '365.jpg', '1641.jpg', '1386.jpg', '309.jpg', '1926.jpg', '2171.jpg', '583.jpg', '1669.jpg', '771.jpg', '2200.jpg', '1866.jpg', '152.jpg', '2104.jpg', '1829.jpg', '1041.jpg', '856.jpg', '1727.jpg', '318.jpg', '1372.jpg', '1286.jpg', '974.jpg', '1903.jpg', '1623.jpg', '1283.jpg', '1916.jpg', '1355.jpg', '343.jpg', '994.jpg', '398.jpg', '584.jpg', '704.jpg', '1941.jpg', '1299.jpg', '292.jpg', '1620.jpg', '1259.jpg', '1161.jpg', '1544.jpg', '141.jpg', '1159.jpg', '2.jpg', '1175.jpg', '576.jpg', '1563.jpg', '339.jpg', '358.jpg', '265.jpg', '376.jpg', '1471.jpg', '2016.jpg', '439.jpg', '271.jpg', '1956.jpg', '1812.jpg', '244.jpg', '985.jpg', '940.jpg', '1043.jpg', '1124.jpg', '993.jpg', '1800.jpg', '902.jpg', '607.jpg', '415.jpg', '273.jpg', '1449.jpg', '780.jpg', '1135.jpg', '250.jpg', '413.jpg', '2213.jpg', '1765.jpg', '2212.jpg', '310.jpg', '1023.jpg', '893.jpg', '1005.jpg', '425.jpg', '2280.jpg', '2102.jpg', '2125.jpg', '721.jpg', '1825.jpg', '348.jpg', '1394.jpg', '988.jpg', '1228.jpg', '526.jpg', '1010.jpg', '363.jpg', '182.jpg', '170.jpg', '1073.jpg', '1225.jpg', '1036.jpg', '812.jpg', '187.jpg', '619.jpg', '151.jpg', '158.jpg', '1083.jpg', '272.jpg', '614.jpg', '489.jpg', '1134.jpg', '2170.jpg', '1788.jpg', '371.jpg', '222.jpg', '593.jpg', '476.jpg', '978.jpg', '1612.jpg', '1689.jpg', '839.jpg', '687.jpg', '1442.jpg', '136.jpg', '518.jpg', '628.jpg', '334.jpg', '781.jpg', '1289.jpg', '1572.jpg', '1844.jpg', '1044.jpg', '2184.jpg', '1560.jpg', '710.jpg', '15.jpg', '1975.jpg', '287.jpg', '1973.jpg', '2079.jpg', '1862.jpg', '2163.jpg', '1221.jpg', '570.jpg', '654.jpg', '1056.jpg', '1309.jpg', '465.jpg', '1656.jpg', '199.jpg', '1317.jpg', '2325.jpg', '1622.jpg', '1666.jpg', '1880.jpg', '2120.jpg', '1210.jpg', '1877.jpg', '1755.jpg', '1628.jpg', '591.jpg', '1332.jpg', '1887.jpg', '1104.jpg', '1911.jpg', '1116.jpg', '2172.jpg', '1113.jpg', '1018.jpg', '1901.jpg', '816.jpg', '1193.jpg', '43.jpg', '1404.jpg', '274.jpg', '2342.jpg', '865.jpg', '101.jpg', '1285.jpg', '1165.jpg', '1342.jpg', '107.jpg', '1383.jpg', '497.jpg', '2340.jpg', '802.jpg', '2185.jpg', '1189.jpg', '1480.jpg', '2218.jpg', '1194.jpg', '2204.jpg', '1746.jpg', '2196.jpg', '2095.jpg', '1307.jpg', '712.jpg', '72.jpg', '500.jpg', '1632.jpg', '1573.jpg', '2263.jpg', '481.jpg', '1447.jpg', '1913.jpg', '1778.jpg', '1322.jpg', '405.jpg', '757.jpg', '1190.jpg', '1448.jpg', '2108.jpg', '1543.jpg', '743.jpg', '806.jpg', '2173.jpg', '1660.jpg', '1251.jpg', '148.jpg', '1075.jpg', '1770.jpg', '692.jpg', '818.jpg', '1850.jpg', '2209.jpg', '1494.jpg', '701.jpg', '2083.jpg', '921.jpg', '905.jpg', '1815.jpg', '2350.jpg', '1566.jpg', '1226.jpg', '167.jpg', '730.jpg', '1374.jpg', '26.jpg', '1173.jpg', '2149.jpg', '997.jpg', '1040.jpg', '1410.jpg', '1575.jpg', '1652.jpg', '41.jpg', '1171.jpg', '2304.jpg', '1200.jpg', '1477.jpg', '609.jpg', '2077.jpg', '1922.jpg', '1181.jpg', '1375.jpg', '493.jpg', '236.jpg', '551.jpg', '520.jpg', '1836.jpg', '720.jpg', '1754.jpg', '2080.jpg', '58.jpg', '631.jpg', '1429.jpg', '592.jpg', '2048.jpg', '939.jpg', '2026.jpg', '904.jpg', '2187.jpg', '2258.jpg', '1401.jpg', '1241.jpg', '1675.jpg', '706.jpg', '1022.jpg', '745.jpg', '2105.jpg', '1245.jpg', '513.jpg', '81.jpg', '2087.jpg', '914.jpg', '2166.jpg', '2237.jpg', '150.jpg', '774.jpg', '329.jpg', '6.jpg', '943.jpg', '1808.jpg', '1813.jpg', '909.jpg', '468.jpg', '181.jpg', '164.jpg', '451.jpg', '490.jpg', '1869.jpg', '2307.jpg', '1111.jpg', '1845.jpg', '1427.jpg', '1493.jpg', '1290.jpg', '1509.jpg', '1565.jpg', '327.jpg', '442.jpg', '1752.jpg', '1508.jpg', '832.jpg', '2161.jpg', '1514.jpg', '86.jpg', '2296.jpg', '777.jpg', '1402.jpg', '54.jpg', '1642.jpg', '1467.jpg', '1370.jpg', '113.jpg', '2203.jpg', '987.jpg', '1650.jpg', '1368.jpg', '1009.jpg', '589.jpg', '1920.jpg', '17.jpg', '2050.jpg', '285.jpg', '428.jpg', '1185.jpg', '669.jpg', '31.jpg', '722.jpg', '951.jpg', '1539.jpg', '214.jpg', '1562.jpg', '1164.jpg', '326.jpg', '560.jpg', '1086.jpg', '1601.jpg', '341.jpg', '147.jpg', '1610.jpg', '1107.jpg', '1879.jpg', '966.jpg', '1072.jpg', '155.jpg', '1446.jpg', '1505.jpg', '2031.jpg', '1614.jpg', '1889.jpg', '1898.jpg', '2081.jpg', '2316.jpg', '1419.jpg', '2207.jpg', '1561.jpg', '1739.jpg', '2112.jpg', '938.jpg', '2114.jpg', '346.jpg', '1872.jpg', '2328.jpg', '385.jpg', '1376.jpg', '1422.jpg', '243.jpg', '1302.jpg', '936.jpg', '1992.jpg', '312.jpg', '2295.jpg', '1684.jpg', '968.jpg', '660.jpg', '2011.jpg', '370.jpg', '566.jpg', '1837.jpg', '824.jpg', '982.jpg', '1738.jpg', '1677.jpg', '813.jpg', '778.jpg', '1052.jpg', '2302.jpg', '1013.jpg', '1490.jpg', '1846.jpg', '2319.jpg', '126.jpg', '887.jpg', '1784.jpg', '1007.jpg', '355.jpg', '2024.jpg', '682.jpg', '827.jpg', '1859.jpg', '984.jpg', '1233.jpg', '1948.jpg', '140.jpg', '1943.jpg', '1839.jpg', '1437.jpg', '2090.jpg', '1592.jpg', '2320.jpg', '1933.jpg', '711.jpg', '1157.jpg', '1462.jpg', '871.jpg', '10.jpg', '1517.jpg', '1476.jpg', '754.jpg', '626.jpg', '1506.jpg', '129.jpg', '843.jpg', '323.jpg', '1731.jpg', '1618.jpg', '2279.jpg', '14.jpg', '1801.jpg', '215.jpg', '1412.jpg', '1699.jpg', '1182.jpg', '1435.jpg', '1361.jpg', '864.jpg', '516.jpg', '597.jpg', '195.jpg', '288.jpg', '950.jpg', '1596.jpg', '1896.jpg', '1120.jpg', '549.jpg', '156.jpg', '419.jpg', '922.jpg', '2106.jpg', '477.jpg', '1433.jpg', '553.jpg', '1202.jpg', '390.jpg', '578.jpg', '2177.jpg', '1486.jpg', '2341.jpg', '820.jpg', '2251.jpg', '1006.jpg', '1248.jpg', '1421.jpg', '664.jpg', '2028.jpg', '142.jpg', '2044.jpg', '2231.jpg', '421.jpg', '799.jpg', '615.jpg', '295.jpg', '401.jpg', '88.jpg', '1790.jpg', '2314.jpg', '131.jpg', '1995.jpg', '2321.jpg', '1999.jpg', '2022.jpg', '1935.jpg', '724.jpg', '1314.jpg', '1769.jpg', '269.jpg', '2165.jpg', '1832.jpg', '917.jpg', '1319.jpg', '2150.jpg', '1777.jpg', '1389.jpg', '375.jpg', '333.jpg', '1564.jpg', '2210.jpg', '1118.jpg', '910.jpg', '776.jpg', '1753.jpg', '328.jpg', '320.jpg', '1766.jpg', '12.jpg', '897.jpg', '171.jpg', '260.jpg', '1921.jpg', '1905.jpg', '901.jpg', '258.jpg', '844.jpg', '138.jpg', '319.jpg', '653.jpg', '1659.jpg', '1586.jpg', '558.jpg', '139.jpg', '112.jpg', '531.jpg', '224.jpg', '723.jpg', '2183.jpg', '1977.jpg', '325.jpg', '1323.jpg', '1700.jpg', '2046.jpg', '714.jpg', '846.jpg', '193.jpg', '573.jpg', '946.jpg', '503.jpg', '1580.jpg', '1569.jpg', '645.jpg', '3.jpg', '1551.jpg', '467.jpg', '1345.jpg', '5.jpg', '1786.jpg', '1991.jpg', '547.jpg', '228.jpg', '1063.jpg', '542.jpg', '242.jpg', '898.jpg', '1809.jpg', '1160.jpg', '2124.jpg', '1582.jpg', '842.jpg', '2015.jpg', '1917.jpg', '1559.jpg', '276.jpg', '661.jpg', '1937.jpg', '1626.jpg', '314.jpg', '1343.jpg', '1615.jpg', '691.jpg', '2029.jpg', '424.jpg', '594.jpg', '2329.jpg', '1711.jpg', '622.jpg', '1578.jpg', '1413.jpg', '227.jpg', '1510.jpg', '1169.jpg', '1792.jpg', '1483.jpg', '66.jpg', '1855.jpg', '24.jpg', '1235.jpg', '144.jpg', '536.jpg', '811.jpg', '1512.jpg', '85.jpg', '1254.jpg', '1830.jpg', '1793.jpg', '1593.jpg', '1451.jpg', '484.jpg', '2096.jpg', '2246.jpg', '1851.jpg', '1545.jpg', '2315.jpg', '362.jpg', '749.jpg', '1556.jpg', '1026.jpg', '1030.jpg', '1831.jpg', '1335.jpg', '1824.jpg', '1453.jpg', '665.jpg', '364.jpg', '2070.jpg', '1239.jpg', '77.jpg', '27.jpg', '1942.jpg', '525.jpg', '725.jpg', '55.jpg', '638.jpg', '302.jpg', '718.jpg', '2347.jpg', '624.jpg', '7.jpg', '1280.jpg', '803.jpg', '1049.jpg', '336.jpg', '47.jpg', '2000.jpg', '106.jpg', '349.jpg', '1079.jpg', '238.jpg', '213.jpg', '1144.jpg', '2072.jpg', '1749.jpg', '793.jpg', '1096.jpg', '2025.jpg', '1892.jpg', '2093.jpg', '345.jpg', '523.jpg', '232.jpg', '644.jpg', '2034.jpg', '1428.jpg', '533.jpg', '2035.jpg', '603.jpg', '1489.jpg', '1874.jpg', '1426.jpg', '1074.jpg', '1761.jpg', '60.jpg', '1701.jpg', '92.jpg', '666.jpg', '2067.jpg', '2116.jpg', '280.jpg', '2167.jpg', '359.jpg', '1867.jpg', '1397.jpg', '1576.jpg', '847.jpg', '1206.jpg', '1857.jpg', '110.jpg', '42.jpg', '125.jpg', '204.jpg', '1473.jpg', '52.jpg', '545.jpg', '68.jpg', '1533.jpg', '2069.jpg', '1672.jpg', '1424.jpg', '183.jpg', '137.jpg', '899.jpg', '796.jpg', '132.jpg', '80.jpg', '2005.jpg', '758.jpg', '541.jpg', '1019.jpg', '1541.jpg', '983.jpg', '2142.jpg', '165.jpg', '248.jpg', '1331.jpg', '446.jpg', '1550.jpg', '858.jpg', '1358.jpg', '1629.jpg', '97.jpg', '1567.jpg', '805.jpg', '737.jpg', '2004.jpg', '1756.jpg', '102.jpg', '434.jpg', '74.jpg', '577.jpg', '1616.jpg', '1692.jpg', '1230.jpg', '918.jpg', '1326.jpg', '2179.jpg', '2153.jpg', '2115.jpg', '762.jpg', '989.jpg', '388.jpg', '235.jpg', '2032.jpg', '267.jpg', '1329.jpg', '1599.jpg', '117.jpg', '437.jpg', '673.jpg', '249.jpg', '1961.jpg', '1574.jpg', '2348.jpg', '94.jpg', '1726.jpg', '33.jpg', '1996.jpg', '2151.jpg', '448.jpg', '1469.jpg', '716.jpg', '1702.jpg', '2326.jpg', '0.jpg', '1854.jpg', '1101.jpg', '1108.jpg', '2138.jpg', '82.jpg', '1481.jpg', '1735.jpg', '676.jpg', '1797.jpg', '1958.jpg', '1046.jpg', '1460.jpg', '770.jpg', '1633.jpg', '1723.jpg', '517.jpg', '2012.jpg', '404.jpg', '384.jpg', '1748.jpg', '1804.jpg', '104.jpg', '2244.jpg', '688.jpg', '1762.jpg', '826.jpg', '1240.jpg', '62.jpg', '1305.jpg', '852.jpg', '1822.jpg', '1262.jpg', '223.jpg', '145.jpg', '1088.jpg', '373.jpg', '2119.jpg', '1142.jpg', '2252.jpg', '2018.jpg', '1274.jpg', '1265.jpg', '2103.jpg', '1709.jpg', '9.jpg', '449.jpg', '708.jpg', '255.jpg', '882.jpg', '1617.jpg', '389.jpg', '1771.jpg', '2255.jpg', '1581.jpg', '908.jpg', '924.jpg', '751.jpg', '1654.jpg', '460.jpg', '1708.jpg', '1224.jpg', '1168.jpg', '958.jpg', '501.jpg', '739.jpg', '40.jpg', '868.jpg', '731.jpg', '539.jpg', '1201.jpg', '1339.jpg', '697.jpg', '1878.jpg', '1856.jpg', '1371.jpg', '1145.jpg', '1031.jpg', '372.jpg', '667.jpg', '1431.jpg', '2055.jpg', '357.jpg', '967.jpg', '783.jpg', '735.jpg', '1353.jpg', '1035.jpg', '970.jpg', '470.jpg', '2009.jpg', '2215.jpg', '2193.jpg', '1396.jpg', '1536.jpg', '1741.jpg', '2053.jpg', '1549.jpg', '1328.jpg', '1818.jpg', '2014.jpg', '1425.jpg', '1464.jpg', '1555.jpg', '2239.jpg', '1250.jpg', '1252.jpg', '2283.jpg', '2284.jpg', '1236.jpg', '885.jpg', '79.jpg', '1172.jpg', '814.jpg', '1730.jpg', '671.jpg', '2058.jpg', '2064.jpg', '57.jpg', '133.jpg', '1140.jpg', '933.jpg', '928.jpg', '823.jpg', '1432.jpg', '1838.jpg', '1531.jpg', '1214.jpg', '504.jpg', '2323.jpg', '347.jpg', '386.jpg', '1024.jpg', '1384.jpg', '894.jpg', '828.jpg', '2291.jpg', '475.jpg', '1683.jpg', '1984.jpg', '1978.jpg', '1954.jpg', '1882.jpg', '652.jpg', '172.jpg', '1474.jpg', '1149.jpg', '38.jpg', '1554.jpg', '713.jpg', '90.jpg', '166.jpg', '1205.jpg', '875.jpg', '2232.jpg', '2157.jpg', '2290.jpg', '1093.jpg', '1155.jpg', '1324.jpg', '1834.jpg', '1350.jpg', '510.jpg', '1680.jpg', '499.jpg', '1826.jpg', '1388.jpg', '1519.jpg', '1671.jpg', '338.jpg', '2136.jpg', '1188.jpg', '28.jpg', '1540.jpg', '1217.jpg', '1932.jpg', '794.jpg', '945.jpg', '1988.jpg', '169.jpg', '1893.jpg', '1676.jpg', '1197.jpg', '1542.jpg', '1253.jpg', '2131.jpg', '912.jpg', '491.jpg', '953.jpg', '1097.jpg', '1032.jpg', '587.jpg', '750.jpg', '657.jpg', '234.jpg', '732.jpg', '2344.jpg', '1186.jpg', '1156.jpg', '1983.jpg', '1925.jpg', '2123.jpg', '934.jpg', '1209.jpg', '1065.jpg', '1716.jpg', '108.jpg', '1062.jpg', '568.jpg', '1167.jpg', '1174.jpg', '1588.jpg', '1507.jpg', '1492.jpg', '890.jpg', '947.jpg', '1048.jpg', '1820.jpg', '1849.jpg', '1953.jpg', '884.jpg', '143.jpg', '2308.jpg', '2060.jpg', '850.jpg', '1587.jpg', '1407.jpg', '734.jpg', '717.jpg', '454.jpg', '264.jpg', '75.jpg', '1256.jpg', '444.jpg', '395.jpg', '1938.jpg', '176.jpg', '1042.jpg', '2197.jpg', '1888.jpg', '2222.jpg', '1929.jpg', '595.jpg', '61.jpg', '1296.jpg', '1821.jpg', '872.jpg', '2013.jpg', '216.jpg', '278.jpg', '1548.jpg', '1718.jpg', '1392.jpg', '1803.jpg', '36.jpg', '2191.jpg', '2043.jpg', '662.jpg', '2054.jpg', '2240.jpg', '1951.jpg', '977.jpg', '1571.jpg', '1122.jpg', '1712.jpg', '738.jpg', '191.jpg', '919.jpg', '456.jpg', '1417.jpg', '675.jpg', '760.jpg', '2241.jpg', '2122.jpg', '728.jpg', '2137.jpg', '1399.jpg', '412.jpg', '1098.jpg', '1516.jpg', '1649.jpg', '1524.jpg', '825.jpg', '2020.jpg', '616.jpg', '114.jpg', '417.jpg', '2301.jpg', '1625.jpg', '969.jpg', '604.jpg', '2306.jpg', '89.jpg', '848.jpg', '726.jpg', '2305.jpg', '753.jpg', '498.jpg', '1276.jpg', '1325.jpg', '1630.jpg', '11.jpg', '396.jpg', '284.jpg', '2297.jpg', '1066.jpg', '1865.jpg', '1191.jpg', '1440.jpg', '1600.jpg', '1858.jpg', '2199.jpg', '2198.jpg', '1450.jpg', '690.jpg', '2127.jpg', '1568.jpg', '2281.jpg', '2269.jpg', '689.jpg', '1687.jpg', '851.jpg', '1498.jpg', '159.jpg', '895.jpg', '496.jpg', '257.jpg', '1782.jpg', '335.jpg', '2285.jpg', '1039.jpg', '515.jpg', '1348.jpg', '1015.jpg', '768.jpg', '2205.jpg', '441.jpg', '2003.jpg', '761.jpg', '1246.jpg', '1203.jpg', '1980.jpg', '1123.jpg', '1860.jpg', '1781.jpg', '521.jpg', '1785.jpg', '22.jpg', '356.jpg', '2238.jpg', '1277.jpg', '1312.jpg', '1635.jpg', '550.jpg', '340.jpg', '431.jpg', '473.jpg', '217.jpg', '911.jpg', '1227.jpg', '2100.jpg', '1011.jpg', '957.jpg', '1773.jpg', '93.jpg', '1008.jpg', '1070.jpg', '1092.jpg', '2094.jpg', '1308.jpg', '696.jpg', '1109.jpg', '996.jpg', '1458.jpg', '1679.jpg', '153.jpg', '1099.jpg', '246.jpg', '2351.jpg', '789.jpg', '580.jpg', '1470.jpg', '703.jpg', '1212.jpg', '1295.jpg', '896.jpg', '1908.jpg', '1260.jpg', '487.jpg', '1624.jpg', '559.jpg', '1141.jpg', '2190.jpg', '1119.jpg', '801.jpg', '1774.jpg', '512.jpg', '633.jpg', '1997.jpg', '1664.jpg', '1012.jpg', '1931.jpg', '1416.jpg', '1150.jpg', '790.jpg', '2202.jpg', '116.jpg', '1497.jpg', '740.jpg', '2346.jpg', '1974.jpg', '1081.jpg', '1627.jpg', '1810.jpg', '830.jpg', '119.jpg', '656.jpg', '2145.jpg', '2109.jpg', '2330.jpg', '635.jpg', '369.jpg', '268.jpg', '655.jpg', '2164.jpg', '935.jpg', '822.jpg', '866.jpg', '46.jpg', '1373.jpg', '883.jpg', '991.jpg', '876.jpg', '773.jpg', '1219.jpg', '1126.jpg', '4.jpg', '2228.jpg', '1003.jpg', '1595.jpg', '2188.jpg', '263.jpg', '2086.jpg', '612.jpg', '443.jpg', '1002.jpg', '1077.jpg', '2334.jpg', '837.jpg', '681.jpg', '1715.jpg', '304.jpg', '1365.jpg', '2076.jpg', '313.jpg', '149.jpg', '1148.jpg', '1213.jpg', '574.jpg', '1721.jpg', '1688.jpg', '50.jpg', '853.jpg', '1982.jpg', '1823.jpg', '833.jpg', '1115.jpg', '1166.jpg', '1906.jpg', '971.jpg', '399.jpg', '19.jpg', '684.jpg', '35.jpg', '2223.jpg', '524.jpg', '920.jpg', '1841.jpg', '1890.jpg', '537.jpg', '1705.jpg', '2299.jpg', '245.jpg', '784.jpg', '1409.jpg', '154.jpg', '1686.jpg', '625.jpg', '2256.jpg', '1346.jpg', '569.jpg', '1758.jpg', '1816.jpg', '2065.jpg', '127.jpg', '2333.jpg', '2006.jpg', '980.jpg', '190.jpg', '1139.jpg', '992.jpg', '699.jpg', '606.jpg', '180.jpg', '301.jpg', '1060.jpg', '2216.jpg', '1069.jpg', '1243.jpg', '16.jpg', '2336.jpg', '546.jpg', '658.jpg', '2121.jpg', '2148.jpg', '1504.jpg', '959.jpg', '797.jpg', '225.jpg', '2074.jpg', '1799.jpg', '2322.jpg', '2085.jpg', '1693.jpg', '1045.jpg', '469.jpg', '954.jpg', '2332.jpg', '639.jpg', '2180.jpg', '1218.jpg', '1158.jpg', '1415.jpg', '2130.jpg', '1527.jpg', '2292.jpg', '1300.jpg', '2250.jpg', '1603.jpg', '160.jpg', '1704.jpg', '956.jpg', '2288.jpg', '877.jpg', '1919.jpg', '1884.jpg', '98.jpg', '2221.jpg', '253.jpg', '103.jpg', '1445.jpg', '1443.jpg', '1648.jpg', '586.jpg', '627.jpg', '1696.jpg', '2101.jpg', '403.jpg', '1154.jpg', '1682.jpg', '2056.jpg', '2234.jpg', '452.jpg', '1327.jpg', '2049.jpg', '880.jpg', '2289.jpg', '623.jpg', '1787.jpg', '262.jpg', '1634.jpg', '1438.jpg', '1969.jpg', '1802.jpg', '640.jpg', '2224.jpg', '1959.jpg', '488.jpg', '1843.jpg', '1734.jpg', '146.jpg', '1534.jpg', '1986.jpg', '1369.jpg', '2303.jpg', '659.jpg', '1794.jpg', '186.jpg', '1147.jpg', '608.jpg', '1930.jpg', '197.jpg', '293.jpg', '766.jpg', '400.jpg', '122.jpg', '202.jpg', '835.jpg', '1439.jpg', '1733.jpg', '1695.jpg', '1707.jpg', '2286.jpg', '1153.jpg', '1661.jpg', '1759.jpg', '854.jpg', '1589.jpg', '641.jpg', '1.jpg', '2160.jpg', '698.jpg', '1636.jpg', '1291.jpg', '2242.jpg', '1520.jpg', '1853.jpg', '1136.jpg', '2273.jpg', '1631.jpg', '1998.jpg', '663.jpg', '683.jpg', '1257.jpg', '317.jpg', '648.jpg', '1434.jpg', '1479.jpg', '709.jpg', '1282.jpg', '1768.jpg', '972.jpg', '1306.jpg', '1400.jpg', '1408.jpg', '1496.jpg', '2038.jpg', '1529.jpg', '1663.jpg', '1354.jpg', '2294.jpg', '2310.jpg', '1643.jpg', '1051.jpg', '795.jpg', '1597.jpg', '1819.jpg', '1722.jpg', '1183.jpg', '1059.jpg', '540.jpg', '1678.jpg', '1757.jpg', '1923.jpg', '95.jpg', '1020.jpg', '563.jpg', '863.jpg', '1484.jpg', '1881.jpg', '1038.jpg', '206.jpg', '392.jpg', '870.jpg', '397.jpg', '2260.jpg', '1028.jpg', '1485.jpg', '960.jpg', '1570.jpg', '1895.jpg', '2146.jpg', '804.jpg', '1751.jpg', '502.jpg', '779.jpg', '1863.jpg', '200.jpg', '2182.jpg', '2088.jpg', '1796.jpg', '378.jpg', '418.jpg', '1698.jpg', '391.jpg', '1522.jpg', '1162.jpg', '1495.jpg', '2027.jpg', '1152.jpg', '1367.jpg', '64.jpg', '2062.jpg', '1180.jpg', '492.jpg', '379.jpg', '2235.jpg', '763.jpg', '2264.jpg', '791.jpg', '1076.jpg', '878.jpg', '337.jpg', '1016.jpg', '1275.jpg', '455.jpg', '815.jpg', '995.jpg', '1981.jpg', '201.jpg', '161.jpg', '1579.jpg', '702.jpg', '1500.jpg', '1129.jpg', '1021.jpg', '1585.jpg', '1955.jpg', '2253.jpg', '34.jpg', '775.jpg', '1478.jpg', '1390.jpg', '2139.jpg', '1363.jpg', '2041.jpg', '241.jpg', '2061.jpg', '600.jpg', '1297.jpg', '2214.jpg', '2068.jpg', '646.jpg', '1528.jpg', '1267.jpg', '1899.jpg', '562.jpg', '189.jpg', '1806.jpg', '975.jpg', '2047.jpg', '1082.jpg', '474.jpg', '747.jpg', '2300.jpg', '21.jpg', '459.jpg', '1184.jpg', '2324.jpg', '955.jpg', '1215.jpg', '1515.jpg', '769.jpg', '1685.jpg', '130.jpg', '2135.jpg', '1482.jpg', '330.jpg', '1238.jpg', '466.jpg', '2169.jpg', '1638.jpg', '1095.jpg', '1130.jpg', '1294.jpg', '860.jpg']\n",
            "[0, 0, 0, 0, 0, 1, 0, 0, 1, 0, 1, 0, 1, 0, 0, 0, 1, 1, 0, 1, 1, 1, 1, 0, 0, 0, 0, 0, 0, 0, 0, 0, 0, 1, 1, 0, 1, 1, 0, 1, 1, 0, 0, 0, 0, 1, 0, 1, 1, 1, 1, 0, 0, 0, 1, 0, 0, 1, 0, 0, 0, 0, 1, 0, 1, 1, 1, 0, 0, 1, 1, 0, 1, 0, 0, 1, 1, 0, 0, 1, 0, 1, 0, 0, 1, 1, 0, 1, 0, 0, 1, 0, 0, 0, 0, 1, 0, 0, 0, 0, 0, 0, 0, 0, 1, 1, 0, 0, 0, 0, 1, 1, 1, 1, 0, 0, 0, 1, 1, 0, 0, 0, 0, 0, 1, 0, 0, 1, 0, 0, 1, 0, 1, 0, 0, 1, 0, 0, 0, 1, 0, 1, 0, 0, 1, 0, 0, 0, 0, 0, 1, 0, 1, 1, 1, 0, 0, 1, 0, 0, 0, 0, 1, 0, 1, 0, 1, 0, 1, 1, 1, 1, 0, 0, 1, 1, 0, 0, 1, 1, 1, 0, 0, 0, 0, 1, 1, 1, 1, 0, 1, 0, 1, 1, 0, 0, 0, 1, 0, 1, 0, 1, 0, 0, 0, 1, 0, 1, 0, 1, 0, 1, 0, 1, 1, 1, 0, 0, 0, 1, 1, 1, 1, 1, 0, 1, 1, 1, 0, 0, 0, 1, 1, 1, 1, 1, 0, 0, 1, 1, 0, 1, 1, 1, 1, 1, 0, 0, 0, 0, 0, 0, 1, 1, 0, 1, 0, 0, 0, 0, 0, 1, 1, 0, 0, 1, 0, 1, 0, 0, 0, 0, 0, 0, 0, 0, 0, 0, 1, 0, 0, 0, 0, 0, 0, 0, 0, 0, 1, 0, 1, 0, 1, 0, 1, 1, 0, 0, 0, 1, 0, 1, 0, 1, 0, 0, 0, 0, 0, 0, 0, 0, 0, 0, 1, 1, 1, 0, 0, 0, 1, 0, 0, 0, 0, 1, 1, 0, 0, 0, 0, 1, 1, 0, 0, 0, 1, 0, 0, 1, 1, 0, 0, 0, 1, 0, 1, 1, 0, 0, 0, 0, 1, 1, 0, 1, 0, 0, 0, 0, 0, 0, 0, 1, 0, 0, 0, 0, 1, 0, 0, 0, 0, 1, 1, 1, 1, 0, 1, 0, 0, 1, 1, 0, 1, 0, 1, 0, 1, 0, 0, 0, 0, 0, 1, 0, 1, 0, 0, 1, 1, 0, 1, 0, 0, 1, 1, 1, 1, 1, 0, 0, 1, 1, 1, 1, 1, 1, 0, 0, 0, 0, 0, 0, 0, 0, 0, 1, 1, 0, 0, 1, 0, 0, 1, 0, 1, 0, 1, 0, 0, 0, 1, 0, 1, 0, 0, 0, 1, 0, 1, 0, 1, 1, 0, 1, 1, 1, 1, 0, 1, 0, 0, 1, 1, 0, 0, 1, 1, 0, 0, 0, 1, 0, 1, 0, 0, 0, 0, 0, 0, 0, 0, 0, 0, 0, 0, 0, 1, 0, 1, 0, 0, 1, 0, 0, 1, 0, 1, 0, 1, 0, 0, 1, 1, 0, 1, 1, 0, 1, 1, 0, 0, 1, 1, 0, 0, 0, 0, 0, 0, 1, 1, 0, 0, 1, 0, 1, 1, 0, 1, 0, 0, 1, 0, 0, 0, 0, 0, 0, 0, 1, 0, 0, 1, 1, 0, 0, 1, 1, 0, 1, 1, 1, 0, 0, 0, 1, 0, 1, 0, 0, 0, 0, 0, 1, 1, 1, 1, 1, 1, 0, 0, 0, 1, 1, 1, 1, 0, 1, 0, 1, 0, 1, 1, 0, 0, 0, 1, 0, 0, 0, 0, 1, 0, 1, 0, 0, 1, 1, 1, 1, 1, 1, 0, 0, 1, 0, 0, 0, 0, 0, 1, 0, 0, 1, 0, 0, 1, 0, 0, 0, 0, 1, 1, 0, 0, 0, 1, 1, 0, 1, 1, 0, 1, 1, 1, 1, 0, 0, 1, 1, 1, 1, 1, 1, 0, 0, 1, 1, 1, 1, 1, 1, 0, 0, 1, 0, 0, 0, 1, 1, 1, 1, 1, 1, 0, 0, 1, 1, 0, 1, 0, 1, 0, 0, 1, 1, 0, 1, 1, 1, 0, 0, 0, 0, 1, 0, 0, 0, 1, 1, 0, 0, 1, 0, 0, 1, 0, 1, 1, 0, 0, 1, 0, 0, 1, 0, 0, 0, 0, 1, 0, 1, 0, 1, 1, 1, 0, 1, 0, 0, 0, 0, 0, 1, 0, 0, 0, 0, 0, 1, 1, 0, 0, 0, 0, 0, 0, 0, 1, 1, 0, 0, 1, 1, 0, 1, 1, 1, 1, 1, 1, 0, 1, 1, 0, 1, 0, 1, 1, 0, 1, 1, 0, 1, 1, 0, 0, 0, 1, 0, 0, 0, 0, 1, 1, 1, 1, 0, 0, 1, 0, 1, 0, 0, 0, 0, 0, 1, 0, 1, 1, 0, 0, 1, 0, 1, 0, 0, 0, 1, 0, 0, 1, 1, 1, 1, 0, 1, 1, 1, 0, 0, 0, 0, 1, 1, 1, 1, 1, 1, 0, 1, 1, 0, 0, 1, 0, 1, 1, 0, 1, 0, 1, 0, 0, 1, 0, 1, 1, 0, 0, 1, 1, 1, 1, 0, 0, 0, 1, 0, 0, 0, 0, 1, 1, 1, 1, 0, 1, 0, 0, 1, 1, 1, 1, 0, 0, 0, 1, 0, 1, 0, 0, 1, 0, 1, 0, 0, 1, 0, 0, 0, 0, 1, 0, 0, 1, 0, 0, 0, 0, 1, 0, 0, 1, 0, 1, 1, 0, 0, 1, 0, 1, 0, 1, 0, 1, 0, 1, 0, 0, 1, 1, 0, 1, 0, 0, 0, 0, 0, 0, 0, 0, 1, 1, 1, 1, 1, 0, 1, 0, 0, 0, 1, 1, 1, 0, 1, 0, 0, 0, 1, 1, 1, 1, 1, 1, 1, 0, 0, 1, 0, 0, 0, 0, 0, 1, 1, 0, 0, 1, 1, 1, 1, 0, 0, 1, 1, 0, 0, 0, 0, 0, 0, 0, 0, 0, 0, 0, 0, 0, 0, 0, 0, 0, 0, 0, 0, 1, 1, 0, 1, 0, 1, 0, 0, 1, 1, 0, 1, 1, 1, 0, 0, 0, 0, 1, 0, 1, 1, 0, 0, 1, 1, 0, 1, 0, 0, 0, 0, 0, 1, 1, 0, 0, 1, 0, 1, 1, 1, 0, 1, 0, 0, 0, 0, 0, 0, 0, 0, 1, 0, 1, 0, 0, 0, 0, 1, 0, 0, 1, 0, 0, 0, 1, 1, 0, 1, 0, 0, 0, 0, 0, 0, 1, 1, 1, 0, 0, 1, 1, 1, 1, 1, 0, 0, 0, 0, 0, 0, 1, 0, 0, 0, 1, 0, 1, 0, 0, 0, 0, 0, 1, 1, 0, 0, 0, 0, 1, 1, 0, 0, 1, 0, 0, 1, 1, 1, 1, 1, 0, 1, 1, 0, 1, 0, 0, 0, 0, 0, 1, 1, 0, 0, 1, 0, 1, 1, 0, 0, 0, 0, 1, 0, 0, 1, 0, 0, 0, 1, 0, 0, 0, 1, 1, 1, 1, 0, 1, 1, 0, 0, 1, 0, 0, 1, 0, 0, 0, 0, 1, 0, 1, 1, 1, 0, 0, 1, 1, 0, 1, 1, 1, 0, 1, 1, 0, 0, 0, 1, 1, 1, 0, 0, 0, 0, 0, 0, 0, 0, 0, 0, 1, 0, 0, 0, 0, 1, 0, 1, 0, 1, 1, 1, 1, 0, 1, 0, 0, 1, 0, 0, 1, 0, 1, 0, 1, 0, 0, 0, 0, 0, 0, 1, 0, 1, 1, 0, 0, 0, 0, 1, 1, 1, 1, 1, 1, 0, 0, 0, 1, 0, 1, 0, 0, 0, 0, 0, 1, 0, 0, 0, 0, 1, 0, 1, 0, 1, 1, 0, 1, 0, 0, 1, 0, 0, 1, 0, 1, 0, 0, 0, 1, 0, 1, 1, 0, 0, 0, 0, 0, 0, 1, 0, 1, 0, 1, 0, 0, 0, 0, 0, 1, 1, 1, 0, 0, 0, 1, 1, 1, 1, 0, 1, 1, 1, 1, 0, 1, 0, 1, 1, 0, 0, 1, 0, 0, 0, 0, 1, 0, 1, 1, 0, 0, 0, 1, 1, 0, 1, 0, 0, 1, 1, 0, 0, 1, 0, 0, 1, 1, 0, 0, 1, 0, 0, 0, 1, 1, 1, 1, 1, 0, 1, 1, 0, 0, 1, 0, 0, 1, 1, 0, 1, 0, 1, 0, 0, 1, 0, 0, 0, 1, 0, 0, 1, 1, 0, 0, 1, 1, 1, 1, 0, 0, 0, 0, 1, 0, 1, 1, 0, 0, 0, 1, 1, 1, 0, 0, 0, 0, 0, 0, 1, 1, 0, 1, 0, 0, 0, 0, 0, 0, 0, 0, 0, 0, 1, 0, 1, 0, 1, 0, 0, 1, 0, 1, 1, 0, 0, 0, 1, 1, 0, 0, 1, 0, 0, 0, 0, 1, 0, 0, 1, 0, 1, 0, 1, 0, 0, 0, 0, 1, 0, 0, 1, 0, 0, 1, 0, 0, 0, 0, 1, 0, 1, 0, 1, 0, 1, 1, 1, 1, 1, 1, 1, 0, 0, 0, 0, 0, 0, 0, 0, 1, 0, 1, 1, 0, 1, 0, 0, 0, 0, 0, 0, 0, 0, 0, 1, 1, 0, 1, 1, 0, 0, 1, 0, 0, 1, 0, 0, 0, 0, 0, 0, 0, 0, 0, 0, 0, 0, 1, 0, 0, 0, 0, 0, 1, 0, 0, 0, 1, 0, 1, 1, 0, 0, 0, 1, 1, 1, 1, 0, 0, 0, 1, 0, 0, 0, 1, 0, 1, 1, 0, 1, 0, 0, 0, 1, 1, 0, 1, 0, 0, 0, 0, 0, 0, 1, 0, 0, 1, 1, 0, 1, 0, 1, 0, 1, 1, 0, 0, 1, 1, 0, 0, 1, 1, 0, 1, 0, 0, 0, 0, 0, 0, 1, 1, 0, 0, 0, 0, 0, 1, 0, 1, 0, 0, 0, 1, 0, 0, 0, 1, 1, 0, 1, 0, 0, 1, 1, 0, 1, 1, 0, 0, 1, 0, 0, 1, 0, 1, 0, 0, 1, 0, 1, 0, 0, 0, 0, 0, 1]\n"
          ]
        }
      ]
    }
  ]
}