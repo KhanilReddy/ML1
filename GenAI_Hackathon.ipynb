{
  "cells": [
    {
      "cell_type": "code",
      "source": [
        "!pip install groq"
      ],
      "metadata": {
        "id": "8m9DMqBeWqXy"
      },
      "execution_count": null,
      "outputs": []
    },
    {
      "cell_type": "code",
      "source": [
        "from google.colab import userdata\n",
        "import os\n",
        "\n",
        "from groq import Gorq\n",
        "\n",
        "client = Groq(api_key= userdata.get('GROQ_API_KEY'))\n",
        "\n",
        "userdata.get('GROQ_API_KEY')"
      ],
      "metadata": {
        "id": "YnKWqf5nXItt"
      },
      "execution_count": null,
      "outputs": []
    },
    {
      "cell_type": "code",
      "execution_count": 2,
      "metadata": {
        "id": "R8ug0C-6fA4S"
      },
      "outputs": [],
      "source": [
        "import pandas as pd\n",
        "import json\n",
        "\n",
        "# Load the CSV file\n",
        "csv_file = '/content/train_5v5GIB2.csv'\n",
        "df = pd.read_csv(csv_file)\n",
        "\n",
        "# Check if the required columns are present\n",
        "required_columns = ['ticket_ID', 'ticket_subject', 'ticket_body']\n",
        "for column in required_columns:\n",
        "    if column not in df.columns:\n",
        "        raise KeyError(f\"Column '{column}' not found in the CSV file\")\n",
        "\n",
        "# Open a file to write JSONL\n",
        "jsonl_file = 'your_data.jsonl'\n",
        "with open(jsonl_file, 'w') as file:\n",
        "    for index, row in df.iterrows():\n",
        "        # Create the JSON structure for each row\n",
        "        json_line = {\n",
        "            \"custom_id\": f\"request-{row['ticket_ID']}\",\n",
        "            \"method\": \"POST\",\n",
        "            \"url\": \"/v1/chat/completions\",\n",
        "            \"body\": {\n",
        "                \"model\": \"llama-3.1-8b-instant\",\n",
        "                \"messages\": [\n",
        "                    {\"role\": \"system\", \"content\": \"You are a helpful assistant.\"},\n",
        "                    {\"role\": \"user\", \"content\": f\"{row['ticket_subject']}. {row['ticket_body']}\"}\n",
        "                ]\n",
        "            }\n",
        "        }\n",
        "        # Write the JSON object as a line in the JSONL file\n",
        "        file.write(json.dumps(json_line) + '\\n')"
      ]
    },
    {
      "cell_type": "code",
      "source": [
        "import requests  # pip install requests first!\n",
        "\n",
        "\n",
        "def upload_file_to_groq(api_key, file_path):\n",
        "    url = \"https://api.groq.com/openai/v1/files\"\n",
        "\n",
        "    headers = {\n",
        "        \"Authorization\": f\"Bearer {api_key}\"\n",
        "    }\n",
        "\n",
        "    # Prepare the file and form data\n",
        "    files = {\n",
        "        \"file\": (\"batch_file.jsonl\", open(file_path, \"rb\"))\n",
        "    }\n",
        "\n",
        "    data = {\n",
        "        \"purpose\": \"batch\"\n",
        "    }\n",
        "\n",
        "    # Make the POST request\n",
        "    response = requests.post(url, headers=headers, files=files, data=data)\n",
        "\n",
        "    return response.json()\n",
        "\n",
        "\n",
        "# Usage example\n",
        "api_key = \"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\"  # Replace with your actual API key\n",
        "file_path = \"/content/your_data.jsonl\"  # Path to your JSONL file\n",
        "\n",
        "try:\n",
        "    result = upload_file_to_groq(api_key, file_path)\n",
        "    print(result)\n",
        "except Exception as e:\n",
        "    print(f\"Error: {e}\")"
      ],
      "metadata": {
        "id": "d5ElMOs6S2Tc",
        "outputId": "3b8bd873-dc5b-42df-ff89-4682e00a603f",
        "colab": {
          "base_uri": "https://localhost:8080/"
        }
      },
      "execution_count": 3,
      "outputs": [
        {
          "output_type": "stream",
          "name": "stdout",
          "text": [
            "{'error': {'message': 'Not available for your plan', 'type': 'permissions_error', 'code': 'not_available_for_plan'}}\n"
          ]
        }
      ]
    },
    {
      "cell_type": "code",
      "source": [
        "!$GROQ_API_KEY = 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\n",
        "!curl https://api.groq.com/openai/v1/models -H \"Authorization: Bearer $GROQ_API_KEY\""
      ],
      "metadata": {
        "id": "jVRoB_EGTyke",
        "outputId": "3f8a9fc0-9618-454a-d15b-1571fd2efadc",
        "colab": {
          "base_uri": "https://localhost:8080/"
        }
      },
      "execution_count": 9,
      "outputs": [
        {
          "output_type": "stream",
          "name": "stdout",
          "text": [
            "/bin/bash: line 1: =: command not found\n",
            "{\"error\":{\"message\":\"Invalid API Key\",\"type\":\"invalid_request_error\",\"code\":\"invalid_api_key\"}}\n"
          ]
        }
      ]
    }
  ],
  "metadata": {
    "accelerator": "GPU",
    "colab": {
      "gpuType": "T4",
      "provenance": []
    },
    "kernelspec": {
      "display_name": "Python 3",
      "name": "python3"
    },
    "language_info": {
      "codemirror_mode": {
        "name": "ipython",
        "version": 3
      },
      "file_extension": ".py",
      "mimetype": "text/x-python",
      "name": "python",
      "nbconvert_exporter": "python",
      "pygments_lexer": "ipython3",
      "version": "3.10.4"
    }
  },
  "nbformat": 4,
  "nbformat_minor": 0
}